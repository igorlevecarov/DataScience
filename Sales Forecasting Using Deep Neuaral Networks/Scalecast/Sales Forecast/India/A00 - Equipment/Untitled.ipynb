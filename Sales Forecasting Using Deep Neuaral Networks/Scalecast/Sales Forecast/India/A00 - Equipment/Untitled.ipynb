{
 "cells": [
  {
   "cell_type": "code",
   "execution_count": 1,
   "id": "c8eebbb9",
   "metadata": {},
   "outputs": [],
   "source": [
    "import numpy as np\n",
    "import pandas as pd\n",
    "from matplotlib import pyplot as plt\n",
    "from tensorflow.keras.models import Sequential\n",
    "from tensorflow.keras.layers import LSTM\n",
    "from tensorflow.keras.layers import Dense, Dropout\n",
    "from sklearn.preprocessing import MinMaxScaler\n",
    "from keras.wrappers.scikit_learn import KerasRegressor\n",
    "from sklearn.model_selection import GridSearchCV\n",
    "\n",
    "pd.options.display.float_format = '{:.8f}'.format"
   ]
  },
  {
   "cell_type": "code",
   "execution_count": 2,
   "id": "1fc1392c",
   "metadata": {},
   "outputs": [
    {
     "data": {
      "text/html": [
       "<div>\n",
       "<style scoped>\n",
       "    .dataframe tbody tr th:only-of-type {\n",
       "        vertical-align: middle;\n",
       "    }\n",
       "\n",
       "    .dataframe tbody tr th {\n",
       "        vertical-align: top;\n",
       "    }\n",
       "\n",
       "    .dataframe thead th {\n",
       "        text-align: right;\n",
       "    }\n",
       "</style>\n",
       "<table border=\"1\" class=\"dataframe\">\n",
       "  <thead>\n",
       "    <tr style=\"text-align: right;\">\n",
       "      <th></th>\n",
       "      <th>revenue</th>\n",
       "      <th>copper_index</th>\n",
       "      <th>ironore_index</th>\n",
       "      <th>lead_index</th>\n",
       "      <th>nickel_index</th>\n",
       "      <th>uranium_index</th>\n",
       "      <th>zinc_index</th>\n",
       "      <th>gold_index</th>\n",
       "      <th>platinum_index</th>\n",
       "      <th>palladium_index</th>\n",
       "      <th>silver_index</th>\n",
       "      <th>commodity_index</th>\n",
       "    </tr>\n",
       "    <tr>\n",
       "      <th>date</th>\n",
       "      <th></th>\n",
       "      <th></th>\n",
       "      <th></th>\n",
       "      <th></th>\n",
       "      <th></th>\n",
       "      <th></th>\n",
       "      <th></th>\n",
       "      <th></th>\n",
       "      <th></th>\n",
       "      <th></th>\n",
       "      <th></th>\n",
       "      <th></th>\n",
       "    </tr>\n",
       "  </thead>\n",
       "  <tbody>\n",
       "    <tr>\n",
       "      <th>2017-01-01</th>\n",
       "      <td>1252216.06900000</td>\n",
       "      <td>0.59973271</td>\n",
       "      <td>0.44278159</td>\n",
       "      <td>0.86394432</td>\n",
       "      <td>0.38983604</td>\n",
       "      <td>0.33916914</td>\n",
       "      <td>1.14686175</td>\n",
       "      <td>0.87787057</td>\n",
       "      <td>0.54352195</td>\n",
       "      <td>0.94126477</td>\n",
       "      <td>0.59236907</td>\n",
       "      <td>0.81191732</td>\n",
       "    </tr>\n",
       "    <tr>\n",
       "      <th>2017-03-01</th>\n",
       "      <td>3008748.23100000</td>\n",
       "      <td>0.62133725</td>\n",
       "      <td>0.48733368</td>\n",
       "      <td>0.89488966</td>\n",
       "      <td>0.41611572</td>\n",
       "      <td>0.37318444</td>\n",
       "      <td>1.19529376</td>\n",
       "      <td>0.90783455</td>\n",
       "      <td>0.56465662</td>\n",
       "      <td>0.97365971</td>\n",
       "      <td>0.62881973</td>\n",
       "      <td>0.84598025</td>\n",
       "    </tr>\n",
       "    <tr>\n",
       "      <th>2017-04-01</th>\n",
       "      <td>489400.00000000</td>\n",
       "      <td>0.60793611</td>\n",
       "      <td>0.47772207</td>\n",
       "      <td>0.88305223</td>\n",
       "      <td>0.39896656</td>\n",
       "      <td>0.37062960</td>\n",
       "      <td>1.17412125</td>\n",
       "      <td>0.90489678</td>\n",
       "      <td>0.53706105</td>\n",
       "      <td>0.97787627</td>\n",
       "      <td>0.61808475</td>\n",
       "      <td>0.83335653</td>\n",
       "    </tr>\n",
       "    <tr>\n",
       "      <th>2017-07-01</th>\n",
       "      <td>1459550.00000000</td>\n",
       "      <td>0.59531388</td>\n",
       "      <td>0.38570310</td>\n",
       "      <td>0.86044328</td>\n",
       "      <td>0.37602520</td>\n",
       "      <td>0.34429174</td>\n",
       "      <td>1.10821103</td>\n",
       "      <td>0.93404949</td>\n",
       "      <td>0.53782945</td>\n",
       "      <td>1.00667063</td>\n",
       "      <td>0.63327735</td>\n",
       "      <td>0.81337647</td>\n",
       "    </tr>\n",
       "    <tr>\n",
       "      <th>2017-08-01</th>\n",
       "      <td>2140161.00000000</td>\n",
       "      <td>0.58726640</td>\n",
       "      <td>0.33765696</td>\n",
       "      <td>0.82505176</td>\n",
       "      <td>0.35816044</td>\n",
       "      <td>0.32081198</td>\n",
       "      <td>1.09404977</td>\n",
       "      <td>0.91599117</td>\n",
       "      <td>0.52125485</td>\n",
       "      <td>0.99807967</td>\n",
       "      <td>0.58924898</td>\n",
       "      <td>0.79628014</td>\n",
       "    </tr>\n",
       "  </tbody>\n",
       "</table>\n",
       "</div>"
      ],
      "text/plain": [
       "                    revenue  copper_index  ironore_index  lead_index  \\\n",
       "date                                                                   \n",
       "2017-01-01 1252216.06900000    0.59973271     0.44278159  0.86394432   \n",
       "2017-03-01 3008748.23100000    0.62133725     0.48733368  0.89488966   \n",
       "2017-04-01  489400.00000000    0.60793611     0.47772207  0.88305223   \n",
       "2017-07-01 1459550.00000000    0.59531388     0.38570310  0.86044328   \n",
       "2017-08-01 2140161.00000000    0.58726640     0.33765696  0.82505176   \n",
       "\n",
       "            nickel_index  uranium_index  zinc_index  gold_index  \\\n",
       "date                                                              \n",
       "2017-01-01    0.38983604     0.33916914  1.14686175  0.87787057   \n",
       "2017-03-01    0.41611572     0.37318444  1.19529376  0.90783455   \n",
       "2017-04-01    0.39896656     0.37062960  1.17412125  0.90489678   \n",
       "2017-07-01    0.37602520     0.34429174  1.10821103  0.93404949   \n",
       "2017-08-01    0.35816044     0.32081198  1.09404977  0.91599117   \n",
       "\n",
       "            platinum_index  palladium_index  silver_index  commodity_index  \n",
       "date                                                                        \n",
       "2017-01-01      0.54352195       0.94126477    0.59236907       0.81191732  \n",
       "2017-03-01      0.56465662       0.97365971    0.62881973       0.84598025  \n",
       "2017-04-01      0.53706105       0.97787627    0.61808475       0.83335653  \n",
       "2017-07-01      0.53782945       1.00667063    0.63327735       0.81337647  \n",
       "2017-08-01      0.52125485       0.99807967    0.58924898       0.79628014  "
      ]
     },
     "execution_count": 2,
     "metadata": {},
     "output_type": "execute_result"
    }
   ],
   "source": [
    "df=pd.read_csv(\"data-multiple.csv\",parse_dates=[\"date\"],index_col=[0])\n",
    "df.head()"
   ]
  },
  {
   "cell_type": "code",
   "execution_count": 3,
   "id": "97c5a27d",
   "metadata": {},
   "outputs": [
    {
     "data": {
      "text/html": [
       "<div>\n",
       "<style scoped>\n",
       "    .dataframe tbody tr th:only-of-type {\n",
       "        vertical-align: middle;\n",
       "    }\n",
       "\n",
       "    .dataframe tbody tr th {\n",
       "        vertical-align: top;\n",
       "    }\n",
       "\n",
       "    .dataframe thead th {\n",
       "        text-align: right;\n",
       "    }\n",
       "</style>\n",
       "<table border=\"1\" class=\"dataframe\">\n",
       "  <thead>\n",
       "    <tr style=\"text-align: right;\">\n",
       "      <th></th>\n",
       "      <th>revenue</th>\n",
       "      <th>copper_index</th>\n",
       "      <th>ironore_index</th>\n",
       "      <th>lead_index</th>\n",
       "      <th>nickel_index</th>\n",
       "      <th>uranium_index</th>\n",
       "      <th>zinc_index</th>\n",
       "      <th>gold_index</th>\n",
       "      <th>platinum_index</th>\n",
       "      <th>palladium_index</th>\n",
       "      <th>silver_index</th>\n",
       "      <th>commodity_index</th>\n",
       "    </tr>\n",
       "    <tr>\n",
       "      <th>date</th>\n",
       "      <th></th>\n",
       "      <th></th>\n",
       "      <th></th>\n",
       "      <th></th>\n",
       "      <th></th>\n",
       "      <th></th>\n",
       "      <th></th>\n",
       "      <th></th>\n",
       "      <th></th>\n",
       "      <th></th>\n",
       "      <th></th>\n",
       "      <th></th>\n",
       "    </tr>\n",
       "  </thead>\n",
       "  <tbody>\n",
       "    <tr>\n",
       "      <th>2021-08-01</th>\n",
       "      <td>-30155.84982000</td>\n",
       "      <td>0.98830042</td>\n",
       "      <td>0.88805351</td>\n",
       "      <td>0.93528614</td>\n",
       "      <td>0.74817669</td>\n",
       "      <td>0.47946453</td>\n",
       "      <td>1.25779995</td>\n",
       "      <td>1.31308687</td>\n",
       "      <td>0.56466689</td>\n",
       "      <td>3.18609892</td>\n",
       "      <td>0.84142871</td>\n",
       "      <td>1.15230170</td>\n",
       "    </tr>\n",
       "    <tr>\n",
       "      <th>2021-09-01</th>\n",
       "      <td>600915.81560000</td>\n",
       "      <td>0.99260333</td>\n",
       "      <td>0.70865360</td>\n",
       "      <td>0.89633402</td>\n",
       "      <td>0.77148211</td>\n",
       "      <td>0.62930838</td>\n",
       "      <td>1.28021662</td>\n",
       "      <td>1.31961326</td>\n",
       "      <td>0.54644029</td>\n",
       "      <td>2.78751318</td>\n",
       "      <td>0.83801370</td>\n",
       "      <td>1.14694711</td>\n",
       "    </tr>\n",
       "    <tr>\n",
       "      <th>2021-10-01</th>\n",
       "      <td>1200354.07300000</td>\n",
       "      <td>1.02429543</td>\n",
       "      <td>0.62718497</td>\n",
       "      <td>0.90779418</td>\n",
       "      <td>0.75700169</td>\n",
       "      <td>0.67221280</td>\n",
       "      <td>1.40393112</td>\n",
       "      <td>1.30583880</td>\n",
       "      <td>0.57069995</td>\n",
       "      <td>2.54443444</td>\n",
       "      <td>0.82106368</td>\n",
       "      <td>1.17589519</td>\n",
       "    </tr>\n",
       "    <tr>\n",
       "      <th>2021-11-01</th>\n",
       "      <td>5210603.23700000</td>\n",
       "      <td>1.00561911</td>\n",
       "      <td>0.49906316</td>\n",
       "      <td>0.90204308</td>\n",
       "      <td>0.77930508</td>\n",
       "      <td>0.69034934</td>\n",
       "      <td>1.37106318</td>\n",
       "      <td>1.33642416</td>\n",
       "      <td>0.57644908</td>\n",
       "      <td>2.51548078</td>\n",
       "      <td>0.84756094</td>\n",
       "      <td>1.16602960</td>\n",
       "    </tr>\n",
       "    <tr>\n",
       "      <th>2021-12-01</th>\n",
       "      <td>6308381.00100000</td>\n",
       "      <td>0.99829398</td>\n",
       "      <td>0.60516226</td>\n",
       "      <td>0.89132943</td>\n",
       "      <td>0.78295409</td>\n",
       "      <td>0.66339827</td>\n",
       "      <td>1.41105179</td>\n",
       "      <td>1.31840925</td>\n",
       "      <td>0.53064146</td>\n",
       "      <td>2.30322821</td>\n",
       "      <td>0.79146763</td>\n",
       "      <td>1.17134376</td>\n",
       "    </tr>\n",
       "  </tbody>\n",
       "</table>\n",
       "</div>"
      ],
      "text/plain": [
       "                    revenue  copper_index  ironore_index  lead_index  \\\n",
       "date                                                                   \n",
       "2021-08-01  -30155.84982000    0.98830042     0.88805351  0.93528614   \n",
       "2021-09-01  600915.81560000    0.99260333     0.70865360  0.89633402   \n",
       "2021-10-01 1200354.07300000    1.02429543     0.62718497  0.90779418   \n",
       "2021-11-01 5210603.23700000    1.00561911     0.49906316  0.90204308   \n",
       "2021-12-01 6308381.00100000    0.99829398     0.60516226  0.89132943   \n",
       "\n",
       "            nickel_index  uranium_index  zinc_index  gold_index  \\\n",
       "date                                                              \n",
       "2021-08-01    0.74817669     0.47946453  1.25779995  1.31308687   \n",
       "2021-09-01    0.77148211     0.62930838  1.28021662  1.31961326   \n",
       "2021-10-01    0.75700169     0.67221280  1.40393112  1.30583880   \n",
       "2021-11-01    0.77930508     0.69034934  1.37106318  1.33642416   \n",
       "2021-12-01    0.78295409     0.66339827  1.41105179  1.31840925   \n",
       "\n",
       "            platinum_index  palladium_index  silver_index  commodity_index  \n",
       "date                                                                        \n",
       "2021-08-01      0.56466689       3.18609892    0.84142871       1.15230170  \n",
       "2021-09-01      0.54644029       2.78751318    0.83801370       1.14694711  \n",
       "2021-10-01      0.57069995       2.54443444    0.82106368       1.17589519  \n",
       "2021-11-01      0.57644908       2.51548078    0.84756094       1.16602960  \n",
       "2021-12-01      0.53064146       2.30322821    0.79146763       1.17134376  "
      ]
     },
     "execution_count": 3,
     "metadata": {},
     "output_type": "execute_result"
    }
   ],
   "source": [
    "df.tail()"
   ]
  },
  {
   "cell_type": "code",
   "execution_count": 4,
   "id": "afe20095",
   "metadata": {},
   "outputs": [
    {
     "data": {
      "text/plain": [
       "(52, 12)"
      ]
     },
     "execution_count": 4,
     "metadata": {},
     "output_type": "execute_result"
    }
   ],
   "source": [
    "df.shape"
   ]
  },
  {
   "cell_type": "code",
   "execution_count": 5,
   "id": "4a770cd3",
   "metadata": {},
   "outputs": [
    {
     "name": "stdout",
     "output_type": "stream",
     "text": [
      "(40, 12)\n",
      "(12, 12)\n"
     ]
    }
   ],
   "source": [
    "test_split=12\n",
    "df_for_training=df[:-test_split]\n",
    "df_for_testing=df[-test_split:]\n",
    "print(df_for_training.shape)\n",
    "print(df_for_testing.shape)"
   ]
  },
  {
   "cell_type": "code",
   "execution_count": 6,
   "id": "df3e7f9a",
   "metadata": {},
   "outputs": [
    {
     "data": {
      "text/plain": [
       "array([[0.21008869, 0.24555093, 0.24111517, 0.63478046, 0.11912314,\n",
       "        0.21155075, 0.54533035, 0.        , 0.79035548, 0.        ,\n",
       "        0.1978356 , 0.05271573],\n",
       "       [0.49599996, 0.32121757, 0.32653201, 0.71861838, 0.1961622 ,\n",
       "        0.37556777, 0.62224822, 0.05248029, 0.92840261, 0.01443077,\n",
       "        0.2795096 , 0.16754797],\n",
       "       [0.08592489, 0.2742821 , 0.30810429, 0.6865481 , 0.14588931,\n",
       "        0.36324864, 0.58862285, 0.04733495, 0.74815429, 0.0163091 ,\n",
       "        0.25545603, 0.12499114],\n",
       "       [0.2438365 , 0.23007465, 0.13168231, 0.62529535, 0.07863659,\n",
       "        0.2362512 , 0.48394673, 0.09839433, 0.75317332, 0.02913595,\n",
       "        0.28949767, 0.05763477],\n",
       "       [0.35461976, 0.20188954, 0.03956655, 0.52941172, 0.02626593,\n",
       "        0.12303511, 0.46145636, 0.06676616, 0.64491162, 0.02530898,\n",
       "        0.19084451, 0.        ],\n",
       "       [0.42762875, 0.24120258, 0.        , 0.53132394, 0.        ,\n",
       "        0.        , 0.4490061 , 0.08547448, 0.6441575 , 0.06440421,\n",
       "        0.20251975, 0.00890044],\n",
       "       [0.77486093, 0.34234539, 0.09321756, 0.67494052, 0.06414026,\n",
       "        0.03931595, 0.58589249, 0.05532189, 0.59687938, 0.06082121,\n",
       "        0.14303969, 0.11036291],\n",
       "       [0.41081082, 0.52987406, 0.17566221, 0.75519194, 0.22710534,\n",
       "        0.04022577, 0.72170385, 0.11551279, 0.79743333, 0.09258916,\n",
       "        0.20191392, 0.29853252],\n",
       "       [0.72919796, 0.55113027, 0.11947763, 0.78458468, 0.26177571,\n",
       "        0.04235644, 0.79455229, 0.15550204, 0.77166127, 0.10526744,\n",
       "        0.24131626, 0.37032079],\n",
       "       [0.07029406, 0.72095633, 0.18822137, 1.        , 0.4499863 ,\n",
       "        0.24024662, 1.        , 0.17779134, 0.85091982, 0.19400843,\n",
       "        0.22003734, 0.58151851],\n",
       "       [0.03813787, 0.62066001, 0.14132691, 0.80116905, 0.51052569,\n",
       "        0.13912408, 0.90617765, 0.16965905, 0.72321489, 0.13120519,\n",
       "        0.16503353, 0.48842431],\n",
       "       [0.14299216, 0.61480817, 0.09208669, 0.77139239, 0.62270849,\n",
       "        0.15655755, 0.77354008, 0.13987191, 0.54038844, 0.13021309,\n",
       "        0.16466783, 0.39472341],\n",
       "       [0.3996972 , 0.65844364, 0.09446804, 0.84950211, 0.70759986,\n",
       "        0.23178662, 0.76126971, 0.11035378, 0.46803869, 0.13291508,\n",
       "        0.16702696, 0.38951038],\n",
       "       [0.12134191, 0.39767219, 0.09644607, 0.60903552, 0.55725337,\n",
       "        0.274897  , 0.47218859, 0.05556941, 0.2750591 , 0.10237281,\n",
       "        0.10535482, 0.10450526],\n",
       "       [0.007239  , 0.3704643 , 0.1487171 , 0.37884217, 0.38774846,\n",
       "        0.55563155, 0.4780548 , 0.02664541, 0.27127568, 0.18784814,\n",
       "        0.01442071, 0.08097905],\n",
       "       [0.05672806, 0.36471999, 0.15159221, 0.32593653, 0.26451839,\n",
       "        0.64739765, 0.40520514, 0.0340394 , 0.32806411, 0.2204313 ,\n",
       "        0.        , 0.03078602],\n",
       "       [0.05709737, 0.30830433, 0.18210164, 0.38934225, 0.29241901,\n",
       "        0.64365801, 0.4240485 , 0.12550169, 0.19100884, 0.32694458,\n",
       "        0.09873773, 0.10199495],\n",
       "       [0.00629191, 0.44718149, 0.31224653, 0.45775181, 0.43019051,\n",
       "        0.62523622, 0.52204765, 0.16060898, 0.22949888, 0.39108346,\n",
       "        0.1136478 , 0.24588124],\n",
       "       [0.00631059, 0.4831492 , 0.30679944, 0.44063091, 0.46927866,\n",
       "        0.50381251, 0.60167549, 0.13659417, 0.30959962, 0.44139307,\n",
       "        0.07323329, 0.29731334],\n",
       "       [0.17977923, 0.49954406, 0.38482936, 0.32613915, 0.43830084,\n",
       "        0.41521479, 0.62071681, 0.11741686, 0.48304865, 0.36398903,\n",
       "        0.05322852, 0.29731598],\n",
       "       [0.93472627, 0.35589063, 0.46109773, 0.20134407, 0.35577182,\n",
       "        0.33649856, 0.46858493, 0.11537647, 0.2763976 , 0.32999432,\n",
       "        0.02239385, 0.16448296],\n",
       "       [0.1117427 , 0.30470344, 0.54291497, 0.28669456, 0.34523036,\n",
       "        0.33388575, 0.38266137, 0.21520813, 0.19797397, 0.39194425,\n",
       "        0.05295197, 0.17067708],\n",
       "       [0.29058657, 0.31077264, 0.64834344, 0.36634696, 0.5288802 ,\n",
       "        0.38082283, 0.34934656, 0.28488901, 0.31825319, 0.44818799,\n",
       "        0.11110005, 0.22906551],\n",
       "       [0.04059418, 0.21924066, 0.37432533, 0.43983405, 0.78116017,\n",
       "        0.3848099 , 0.2459064 , 0.39783016, 0.3902326 , 0.39661126,\n",
       "        0.22316669, 0.20523404],\n",
       "       [0.34478731, 0.23597078, 0.36132035, 0.46725218, 1.        ,\n",
       "        0.39326473, 0.27024051, 0.40391776, 0.6867832 , 0.48155679,\n",
       "        0.29634566, 0.26389207],\n",
       "       [1.        , 0.25086421, 0.32271859, 0.58497892, 0.93001087,\n",
       "        0.34458579, 0.33580673, 0.38701974, 0.52803327, 0.55233959,\n",
       "        0.25750142, 0.29286498],\n",
       "       [0.28924907, 0.28452567, 0.26303266, 0.41408457, 0.71518196,\n",
       "        0.38014889, 0.32150743, 0.35542266, 0.54191252, 0.57489572,\n",
       "        0.22018235, 0.24676258],\n",
       "       [0.04994361, 0.37484714, 0.34782654, 0.29081137, 0.56591957,\n",
       "        0.39976845, 0.23928644, 0.37034875, 0.62906017, 0.64833121,\n",
       "        0.22194729, 0.22600889],\n",
       "       [0.2475345 , 0.36386238, 0.39236486, 0.31163482, 0.52656804,\n",
       "        0.33525437, 0.28586384, 0.47238344, 0.85477082, 0.83854028,\n",
       "        0.28495764, 0.33539791],\n",
       "       [0.97657599, 0.22469385, 0.31261417, 0.25820469, 0.43366611,\n",
       "        0.33996674, 0.14480184, 0.51741464, 0.74438577, 1.        ,\n",
       "        0.2759698 , 0.24504267],\n",
       "       [0.24938554, 0.05340424, 0.32347629, 0.11336008, 0.33403163,\n",
       "        0.35944538, 0.00718839, 0.51258643, 0.0329592 , 0.7794338 ,\n",
       "        0.04876505, 0.07010721],\n",
       "       [0.12834283, 0.        , 0.27191107, 0.03704111, 0.32706215,\n",
       "        0.78218728, 0.        , 0.63200014, 0.        , 0.75851809,\n",
       "        0.06000441, 0.11105862],\n",
       "       [0.04967019, 0.06867027, 0.35156661, 0.        , 0.37271974,\n",
       "        1.        , 0.04283092, 0.67439511, 0.15805065, 0.65904053,\n",
       "        0.15554493, 0.18084662],\n",
       "       [0.00634973, 0.24002133, 0.47769451, 0.12427021, 0.43499586,\n",
       "        0.94673143, 0.08045297, 0.69791128, 0.24082673, 0.66219682,\n",
       "        0.26561188, 0.27774565],\n",
       "       [0.07907936, 0.45563449, 0.52686208, 0.20092453, 0.51237608,\n",
       "        0.9040048 , 0.1838065 , 0.84355488, 0.39186701, 0.7282659 ,\n",
       "        0.49457498, 0.49714766],\n",
       "       [0.0519299 , 0.49702915, 0.65343234, 0.32505166, 0.64687039,\n",
       "        0.83051612, 0.34260785, 1.        , 0.68423167, 0.79955617,\n",
       "        1.        , 0.74765955],\n",
       "       [0.        , 0.56855377, 0.68419414, 0.2585973 , 0.67915714,\n",
       "        0.73162084, 0.37088655, 0.93860738, 0.55314594, 0.86771338,\n",
       "        0.90340234, 0.7556847 ],\n",
       "       [0.06669145, 0.60947373, 0.64480404, 0.15722755, 0.72292445,\n",
       "        0.68528182, 0.36416545, 0.90852191, 0.42962971, 0.89515274,\n",
       "        0.77591294, 0.74053878],\n",
       "       [0.27795001, 0.74377754, 0.68969625, 0.30339654, 0.78806622,\n",
       "        0.67261505, 0.51622796, 0.86434581, 0.58555009, 0.90214602,\n",
       "        0.7635242 , 0.85120202],\n",
       "       [0.10352702, 1.        , 1.        , 0.40682414, 0.90551293,\n",
       "        0.72515247, 0.59672443, 0.85749762, 1.        , 0.89345679,\n",
       "        0.84319791, 1.        ]])"
      ]
     },
     "execution_count": 6,
     "metadata": {},
     "output_type": "execute_result"
    }
   ],
   "source": [
    "scaler = MinMaxScaler(feature_range=(0,1))\n",
    "df_for_training_scaled = scaler.fit_transform(df_for_training)\n",
    "df_for_testing_scaled = scaler.transform(df_for_testing)\n",
    "df_for_training_scaled"
   ]
  },
  {
   "cell_type": "code",
   "execution_count": 7,
   "id": "af5fde6c",
   "metadata": {},
   "outputs": [
    {
     "name": "stdout",
     "output_type": "stream",
     "text": [
      "trainX Shape--  (34, 6, 12)\n",
      "trainY Shape--  (34,)\n",
      "testX Shape--  (6, 6, 12)\n",
      "testY Shape--  (6,)\n"
     ]
    }
   ],
   "source": [
    "def createXY(dataset,n_past):\n",
    "    dataX = []\n",
    "    dataY = []\n",
    "    for i in range(n_past, len(dataset)):\n",
    "            dataX.append(dataset[i - n_past:i, 0:dataset.shape[1]])\n",
    "            dataY.append(dataset[i,0])\n",
    "    return np.array(dataX),np.array(dataY)\n",
    "\n",
    "trainX,trainY=createXY(df_for_training_scaled,6)\n",
    "testX,testY=createXY(df_for_testing_scaled,6)\n",
    "\n",
    "print(\"trainX Shape-- \",trainX.shape)\n",
    "print(\"trainY Shape-- \",trainY.shape)\n",
    "\n",
    "print(\"testX Shape-- \",testX.shape)\n",
    "print(\"testY Shape-- \",testY.shape)"
   ]
  },
  {
   "cell_type": "code",
   "execution_count": 8,
   "id": "b9c2bb43",
   "metadata": {},
   "outputs": [
    {
     "name": "stdout",
     "output_type": "stream",
     "text": [
      "trainX[0]-- \n",
      " [[0.21008869 0.24555093 0.24111517 0.63478046 0.11912314 0.21155075\n",
      "  0.54533035 0.         0.79035548 0.         0.1978356  0.05271573]\n",
      " [0.49599996 0.32121757 0.32653201 0.71861838 0.1961622  0.37556777\n",
      "  0.62224822 0.05248029 0.92840261 0.01443077 0.2795096  0.16754797]\n",
      " [0.08592489 0.2742821  0.30810429 0.6865481  0.14588931 0.36324864\n",
      "  0.58862285 0.04733495 0.74815429 0.0163091  0.25545603 0.12499114]\n",
      " [0.2438365  0.23007465 0.13168231 0.62529535 0.07863659 0.2362512\n",
      "  0.48394673 0.09839433 0.75317332 0.02913595 0.28949767 0.05763477]\n",
      " [0.35461976 0.20188954 0.03956655 0.52941172 0.02626593 0.12303511\n",
      "  0.46145636 0.06676616 0.64491162 0.02530898 0.19084451 0.        ]\n",
      " [0.42762875 0.24120258 0.         0.53132394 0.         0.\n",
      "  0.4490061  0.08547448 0.6441575  0.06440421 0.20251975 0.00890044]]\n",
      "trainY[0]--  0.7748609287453284\n",
      "6 12\n"
     ]
    }
   ],
   "source": [
    "print(\"trainX[0]-- \\n\",trainX[0])\n",
    "print(\"trainY[0]-- \",trainY[0])\n",
    "\n",
    "print(trainX.shape[1],trainX.shape[2])"
   ]
  },
  {
   "cell_type": "code",
   "execution_count": 9,
   "id": "44ad9e43",
   "metadata": {},
   "outputs": [
    {
     "name": "stdout",
     "output_type": "stream",
     "text": [
      "Epoch 1/10\n",
      "2/2 [==============================] - 2s 9ms/step - loss: 0.1566\n",
      "Epoch 2/10\n",
      "2/2 [==============================] - 0s 6ms/step - loss: 0.1108\n",
      "Epoch 3/10\n",
      "2/2 [==============================] - 0s 5ms/step - loss: 0.0915\n",
      "Epoch 4/10\n",
      "2/2 [==============================] - 0s 5ms/step - loss: 0.0897\n",
      "Epoch 5/10\n",
      "2/2 [==============================] - 0s 5ms/step - loss: 0.0962\n",
      "Epoch 6/10\n",
      "2/2 [==============================] - 0s 6ms/step - loss: 0.0926\n",
      "Epoch 7/10\n",
      "2/2 [==============================] - 0s 5ms/step - loss: 0.0963\n",
      "Epoch 8/10\n",
      "2/2 [==============================] - 0s 5ms/step - loss: 0.0877\n",
      "Epoch 9/10\n",
      "2/2 [==============================] - 0s 5ms/step - loss: 0.0874\n",
      "Epoch 10/10\n",
      "2/2 [==============================] - 0s 5ms/step - loss: 0.0846\n"
     ]
    },
    {
     "data": {
      "text/plain": [
       "<keras.callbacks.History at 0x25fbe6e4a60>"
      ]
     },
     "execution_count": 9,
     "metadata": {},
     "output_type": "execute_result"
    }
   ],
   "source": [
    "model = Sequential()\n",
    "model.add(LSTM(50,return_sequences=True,input_shape=(6,12)))\n",
    "model.add(LSTM(50))\n",
    "model.add(Dropout(0.2))\n",
    "model.add(Dense(1))\n",
    "\n",
    "model.compile(loss='mean_squared_error', optimizer='adam')\n",
    "model.fit(trainX, trainY, epochs=10, batch_size=20, verbose=1, shuffle=False)"
   ]
  },
  {
   "cell_type": "code",
   "execution_count": 10,
   "id": "e0dcba53",
   "metadata": {},
   "outputs": [
    {
     "name": "stdout",
     "output_type": "stream",
     "text": [
      "prediction\n",
      " [[0.2668153 ]\n",
      " [0.27903044]\n",
      " [0.28766042]\n",
      " [0.29947042]\n",
      " [0.308418  ]\n",
      " [0.30876908]]\n",
      "\n",
      "Prediction Shape- (6, 1)\n"
     ]
    }
   ],
   "source": [
    "prediction=model.predict(testX)\n",
    "print(\"prediction\\n\", prediction)\n",
    "print(\"\\nPrediction Shape-\",prediction.shape)"
   ]
  },
  {
   "cell_type": "code",
   "execution_count": 11,
   "id": "9220e3c8",
   "metadata": {},
   "outputs": [
    {
     "data": {
      "text/plain": [
       "(6, 12)"
      ]
     },
     "execution_count": 11,
     "metadata": {},
     "output_type": "execute_result"
    }
   ],
   "source": [
    "prediction_copies_array = np.repeat(prediction,12, axis=-1)\n",
    "prediction_copies_array.shape"
   ]
  },
  {
   "cell_type": "code",
   "execution_count": 12,
   "id": "2a24bbcd",
   "metadata": {},
   "outputs": [],
   "source": [
    "pred=scaler.inverse_transform(np.reshape(prediction_copies_array,(len(prediction),12)))[:,0]"
   ]
  },
  {
   "cell_type": "code",
   "execution_count": 13,
   "id": "83a21c2a",
   "metadata": {},
   "outputs": [],
   "source": [
    "original_copies_array = np.repeat(testY,12, axis=-1)\n",
    "original=scaler.inverse_transform(np.reshape(original_copies_array,(len(testY),12)))[:,0]"
   ]
  },
  {
   "cell_type": "code",
   "execution_count": 14,
   "id": "3b21bac7",
   "metadata": {},
   "outputs": [
    {
     "name": "stdout",
     "output_type": "stream",
     "text": [
      "Pred Values--  [1600723.2 1675768.5 1728787.9 1801344.1 1856314.8 1858471.6]\n",
      "\n",
      "Original Values--  [1186474.869    -30155.84982  600915.8156  1200354.073   5210603.237\n",
      " 6308381.001  ]\n"
     ]
    }
   ],
   "source": [
    "print(\"Pred Values-- \" ,pred)\n",
    "print(\"\\nOriginal Values-- \" ,original)"
   ]
  },
  {
   "cell_type": "code",
   "execution_count": 15,
   "id": "45d76ed6",
   "metadata": {},
   "outputs": [
    {
     "data": {
      "image/png": "[encoded data removed]",
      "text/plain": [
       "<Figure size 432x288 with 1 Axes>"
      ]
     },
     "metadata": {
      "needs_background": "light"
     },
     "output_type": "display_data"
    }
   ],
   "source": [
    "plt.plot(original, color = 'red', label = 'Real Stock Price')\n",
    "plt.plot(pred, color = 'blue', label = 'Predicted Stock Price')\n",
    "plt.title('Stock Price Prediction')\n",
    "plt.xlabel('Time')\n",
    "plt.ylabel('Google Stock Price')\n",
    "plt.legend()\n",
    "plt.show()"
   ]
  },
  {
   "cell_type": "code",
   "execution_count": 16,
   "id": "0bd967e5",
   "metadata": {},
   "outputs": [
    {
     "data": {
      "text/html": [
       "<div>\n",
       "<style scoped>\n",
       "    .dataframe tbody tr th:only-of-type {\n",
       "        vertical-align: middle;\n",
       "    }\n",
       "\n",
       "    .dataframe tbody tr th {\n",
       "        vertical-align: top;\n",
       "    }\n",
       "\n",
       "    .dataframe thead th {\n",
       "        text-align: right;\n",
       "    }\n",
       "</style>\n",
       "<table border=\"1\" class=\"dataframe\">\n",
       "  <thead>\n",
       "    <tr style=\"text-align: right;\">\n",
       "      <th></th>\n",
       "      <th>revenue</th>\n",
       "      <th>copper_index</th>\n",
       "      <th>ironore_index</th>\n",
       "      <th>lead_index</th>\n",
       "      <th>nickel_index</th>\n",
       "      <th>uranium_index</th>\n",
       "      <th>zinc_index</th>\n",
       "      <th>gold_index</th>\n",
       "      <th>platinum_index</th>\n",
       "      <th>palladium_index</th>\n",
       "      <th>silver_index</th>\n",
       "      <th>commodity_index</th>\n",
       "    </tr>\n",
       "    <tr>\n",
       "      <th>date</th>\n",
       "      <th></th>\n",
       "      <th></th>\n",
       "      <th></th>\n",
       "      <th></th>\n",
       "      <th></th>\n",
       "      <th></th>\n",
       "      <th></th>\n",
       "      <th></th>\n",
       "      <th></th>\n",
       "      <th></th>\n",
       "      <th></th>\n",
       "      <th></th>\n",
       "    </tr>\n",
       "  </thead>\n",
       "  <tbody>\n",
       "    <tr>\n",
       "      <th>2021-01-01</th>\n",
       "      <td>433407.20440000</td>\n",
       "      <td>0.83303292</td>\n",
       "      <td>0.91351422</td>\n",
       "      <td>0.77927585</td>\n",
       "      <td>0.69594930</td>\n",
       "      <td>0.45213367</td>\n",
       "      <td>1.14629330</td>\n",
       "      <td>1.37196730</td>\n",
       "      <td>0.60923680</td>\n",
       "      <td>2.99022006</td>\n",
       "      <td>0.90969389</td>\n",
       "      <td>1.09833905</td>\n",
       "    </tr>\n",
       "    <tr>\n",
       "      <th>2021-02-01</th>\n",
       "      <td>810515.24800000</td>\n",
       "      <td>0.88606943</td>\n",
       "      <td>0.88933603</td>\n",
       "      <td>0.80530875</td>\n",
       "      <td>0.72658412</td>\n",
       "      <td>0.43586795</td>\n",
       "      <td>1.16236058</td>\n",
       "      <td>1.32920746</td>\n",
       "      <td>0.67684356</td>\n",
       "      <td>2.95689013</td>\n",
       "      <td>0.95816670</td>\n",
       "      <td>1.10594935</td>\n",
       "    </tr>\n",
       "    <tr>\n",
       "      <th>2021-03-01</th>\n",
       "      <td>622656.71890000</td>\n",
       "      <td>0.94103177</td>\n",
       "      <td>0.91351989</td>\n",
       "      <td>0.75416200</td>\n",
       "      <td>0.64144292</td>\n",
       "      <td>0.43097665</td>\n",
       "      <td>1.17938000</td>\n",
       "      <td>1.26548442</td>\n",
       "      <td>0.66102657</td>\n",
       "      <td>3.12677905</td>\n",
       "      <td>0.89941831</td>\n",
       "      <td>1.09946837</td>\n",
       "    </tr>\n",
       "    <tr>\n",
       "      <th>2021-04-01</th>\n",
       "      <td>67416.47699000</td>\n",
       "      <td>0.97439290</td>\n",
       "      <td>0.97658492</td>\n",
       "      <td>0.77643121</td>\n",
       "      <td>0.64466566</td>\n",
       "      <td>0.44284462</td>\n",
       "      <td>1.19720103</td>\n",
       "      <td>1.29313478</td>\n",
       "      <td>0.67600259</td>\n",
       "      <td>3.49401180</td>\n",
       "      <td>0.90087868</td>\n",
       "      <td>1.12972552</td>\n",
       "    </tr>\n",
       "    <tr>\n",
       "      <th>2021-05-01</th>\n",
       "      <td>541788.78770000</td>\n",
       "      <td>1.06746682</td>\n",
       "      <td>1.11140099</td>\n",
       "      <td>0.84412164</td>\n",
       "      <td>0.68827527</td>\n",
       "      <td>0.45863360</td>\n",
       "      <td>1.25479151</td>\n",
       "      <td>1.36185036</td>\n",
       "      <td>0.67865921</td>\n",
       "      <td>3.62246737</td>\n",
       "      <td>0.96635549</td>\n",
       "      <td>1.20171440</td>\n",
       "    </tr>\n",
       "    <tr>\n",
       "      <th>2021-06-01</th>\n",
       "      <td>168359.74980000</td>\n",
       "      <td>1.01050078</td>\n",
       "      <td>1.17655883</td>\n",
       "      <td>0.84824975</td>\n",
       "      <td>0.70293801</td>\n",
       "      <td>0.47875641</td>\n",
       "      <td>1.24790049</td>\n",
       "      <td>1.34670851</td>\n",
       "      <td>0.62841237</td>\n",
       "      <td>3.42912947</td>\n",
       "      <td>0.94537714</td>\n",
       "      <td>1.18394957</td>\n",
       "    </tr>\n",
       "    <tr>\n",
       "      <th>2021-07-01</th>\n",
       "      <td>1186474.86900000</td>\n",
       "      <td>1.00210305</td>\n",
       "      <td>1.17431753</td>\n",
       "      <td>0.90496076</td>\n",
       "      <td>0.73573783</td>\n",
       "      <td>0.48206097</td>\n",
       "      <td>1.24413659</td>\n",
       "      <td>1.32741317</td>\n",
       "      <td>0.60839815</td>\n",
       "      <td>3.43743649</td>\n",
       "      <td>0.90250346</td>\n",
       "      <td>1.17717319</td>\n",
       "    </tr>\n",
       "    <tr>\n",
       "      <th>2021-08-01</th>\n",
       "      <td>-30155.84982000</td>\n",
       "      <td>0.98830042</td>\n",
       "      <td>0.88805351</td>\n",
       "      <td>0.93528614</td>\n",
       "      <td>0.74817669</td>\n",
       "      <td>0.47946453</td>\n",
       "      <td>1.25779995</td>\n",
       "      <td>1.31308687</td>\n",
       "      <td>0.56466689</td>\n",
       "      <td>3.18609892</td>\n",
       "      <td>0.84142871</td>\n",
       "      <td>1.15230170</td>\n",
       "    </tr>\n",
       "    <tr>\n",
       "      <th>2021-09-01</th>\n",
       "      <td>600915.81560000</td>\n",
       "      <td>0.99260333</td>\n",
       "      <td>0.70865360</td>\n",
       "      <td>0.89633402</td>\n",
       "      <td>0.77148211</td>\n",
       "      <td>0.62930838</td>\n",
       "      <td>1.28021662</td>\n",
       "      <td>1.31961326</td>\n",
       "      <td>0.54644029</td>\n",
       "      <td>2.78751318</td>\n",
       "      <td>0.83801370</td>\n",
       "      <td>1.14694711</td>\n",
       "    </tr>\n",
       "    <tr>\n",
       "      <th>2021-10-01</th>\n",
       "      <td>1200354.07300000</td>\n",
       "      <td>1.02429543</td>\n",
       "      <td>0.62718497</td>\n",
       "      <td>0.90779418</td>\n",
       "      <td>0.75700169</td>\n",
       "      <td>0.67221280</td>\n",
       "      <td>1.40393112</td>\n",
       "      <td>1.30583880</td>\n",
       "      <td>0.57069995</td>\n",
       "      <td>2.54443444</td>\n",
       "      <td>0.82106368</td>\n",
       "      <td>1.17589519</td>\n",
       "    </tr>\n",
       "    <tr>\n",
       "      <th>2021-11-01</th>\n",
       "      <td>5210603.23700000</td>\n",
       "      <td>1.00561911</td>\n",
       "      <td>0.49906316</td>\n",
       "      <td>0.90204308</td>\n",
       "      <td>0.77930508</td>\n",
       "      <td>0.69034934</td>\n",
       "      <td>1.37106318</td>\n",
       "      <td>1.33642416</td>\n",
       "      <td>0.57644908</td>\n",
       "      <td>2.51548078</td>\n",
       "      <td>0.84756094</td>\n",
       "      <td>1.16602960</td>\n",
       "    </tr>\n",
       "    <tr>\n",
       "      <th>2021-12-01</th>\n",
       "      <td>6308381.00100000</td>\n",
       "      <td>0.99829398</td>\n",
       "      <td>0.60516226</td>\n",
       "      <td>0.89132943</td>\n",
       "      <td>0.78295409</td>\n",
       "      <td>0.66339827</td>\n",
       "      <td>1.41105179</td>\n",
       "      <td>1.31840925</td>\n",
       "      <td>0.53064146</td>\n",
       "      <td>2.30322821</td>\n",
       "      <td>0.79146763</td>\n",
       "      <td>1.17134376</td>\n",
       "    </tr>\n",
       "  </tbody>\n",
       "</table>\n",
       "</div>"
      ],
      "text/plain": [
       "                    revenue  copper_index  ironore_index  lead_index  \\\n",
       "date                                                                   \n",
       "2021-01-01  433407.20440000    0.83303292     0.91351422  0.77927585   \n",
       "2021-02-01  810515.24800000    0.88606943     0.88933603  0.80530875   \n",
       "2021-03-01  622656.71890000    0.94103177     0.91351989  0.75416200   \n",
       "2021-04-01   67416.47699000    0.97439290     0.97658492  0.77643121   \n",
       "2021-05-01  541788.78770000    1.06746682     1.11140099  0.84412164   \n",
       "2021-06-01  168359.74980000    1.01050078     1.17655883  0.84824975   \n",
       "2021-07-01 1186474.86900000    1.00210305     1.17431753  0.90496076   \n",
       "2021-08-01  -30155.84982000    0.98830042     0.88805351  0.93528614   \n",
       "2021-09-01  600915.81560000    0.99260333     0.70865360  0.89633402   \n",
       "2021-10-01 1200354.07300000    1.02429543     0.62718497  0.90779418   \n",
       "2021-11-01 5210603.23700000    1.00561911     0.49906316  0.90204308   \n",
       "2021-12-01 6308381.00100000    0.99829398     0.60516226  0.89132943   \n",
       "\n",
       "            nickel_index  uranium_index  zinc_index  gold_index  \\\n",
       "date                                                              \n",
       "2021-01-01    0.69594930     0.45213367  1.14629330  1.37196730   \n",
       "2021-02-01    0.72658412     0.43586795  1.16236058  1.32920746   \n",
       "2021-03-01    0.64144292     0.43097665  1.17938000  1.26548442   \n",
       "2021-04-01    0.64466566     0.44284462  1.19720103  1.29313478   \n",
       "2021-05-01    0.68827527     0.45863360  1.25479151  1.36185036   \n",
       "2021-06-01    0.70293801     0.47875641  1.24790049  1.34670851   \n",
       "2021-07-01    0.73573783     0.48206097  1.24413659  1.32741317   \n",
       "2021-08-01    0.74817669     0.47946453  1.25779995  1.31308687   \n",
       "2021-09-01    0.77148211     0.62930838  1.28021662  1.31961326   \n",
       "2021-10-01    0.75700169     0.67221280  1.40393112  1.30583880   \n",
       "2021-11-01    0.77930508     0.69034934  1.37106318  1.33642416   \n",
       "2021-12-01    0.78295409     0.66339827  1.41105179  1.31840925   \n",
       "\n",
       "            platinum_index  palladium_index  silver_index  commodity_index  \n",
       "date                                                                        \n",
       "2021-01-01      0.60923680       2.99022006    0.90969389       1.09833905  \n",
       "2021-02-01      0.67684356       2.95689013    0.95816670       1.10594935  \n",
       "2021-03-01      0.66102657       3.12677905    0.89941831       1.09946837  \n",
       "2021-04-01      0.67600259       3.49401180    0.90087868       1.12972552  \n",
       "2021-05-01      0.67865921       3.62246737    0.96635549       1.20171440  \n",
       "2021-06-01      0.62841237       3.42912947    0.94537714       1.18394957  \n",
       "2021-07-01      0.60839815       3.43743649    0.90250346       1.17717319  \n",
       "2021-08-01      0.56466689       3.18609892    0.84142871       1.15230170  \n",
       "2021-09-01      0.54644029       2.78751318    0.83801370       1.14694711  \n",
       "2021-10-01      0.57069995       2.54443444    0.82106368       1.17589519  \n",
       "2021-11-01      0.57644908       2.51548078    0.84756094       1.16602960  \n",
       "2021-12-01      0.53064146       2.30322821    0.79146763       1.17134376  "
      ]
     },
     "execution_count": 16,
     "metadata": {},
     "output_type": "execute_result"
    }
   ],
   "source": [
    "df_12_m_past=df.iloc[-12:,:]\n",
    "df_12_m_past.head(12)"
   ]
  },
  {
   "cell_type": "code",
   "execution_count": 17,
   "id": "90da74a9",
   "metadata": {},
   "outputs": [
    {
     "data": {
      "text/html": [
       "<div>\n",
       "<style scoped>\n",
       "    .dataframe tbody tr th:only-of-type {\n",
       "        vertical-align: middle;\n",
       "    }\n",
       "\n",
       "    .dataframe tbody tr th {\n",
       "        vertical-align: top;\n",
       "    }\n",
       "\n",
       "    .dataframe thead th {\n",
       "        text-align: right;\n",
       "    }\n",
       "</style>\n",
       "<table border=\"1\" class=\"dataframe\">\n",
       "  <thead>\n",
       "    <tr style=\"text-align: right;\">\n",
       "      <th></th>\n",
       "      <th>revenue</th>\n",
       "      <th>copper_index</th>\n",
       "      <th>ironore_index</th>\n",
       "      <th>lead_index</th>\n",
       "      <th>nickel_index</th>\n",
       "      <th>uranium_index</th>\n",
       "      <th>zinc_index</th>\n",
       "      <th>gold_index</th>\n",
       "      <th>platinum_index</th>\n",
       "      <th>palladium_index</th>\n",
       "      <th>silver_index</th>\n",
       "      <th>commodity_index</th>\n",
       "    </tr>\n",
       "    <tr>\n",
       "      <th>date</th>\n",
       "      <th></th>\n",
       "      <th></th>\n",
       "      <th></th>\n",
       "      <th></th>\n",
       "      <th></th>\n",
       "      <th></th>\n",
       "      <th></th>\n",
       "      <th></th>\n",
       "      <th></th>\n",
       "      <th></th>\n",
       "      <th></th>\n",
       "      <th></th>\n",
       "    </tr>\n",
       "  </thead>\n",
       "  <tbody>\n",
       "    <tr>\n",
       "      <th>2017-01-01</th>\n",
       "      <td>1252216.06900000</td>\n",
       "      <td>0.59973271</td>\n",
       "      <td>0.44278159</td>\n",
       "      <td>0.86394432</td>\n",
       "      <td>0.38983604</td>\n",
       "      <td>0.33916914</td>\n",
       "      <td>1.14686175</td>\n",
       "      <td>0.87787057</td>\n",
       "      <td>0.54352195</td>\n",
       "      <td>0.94126477</td>\n",
       "      <td>0.59236907</td>\n",
       "      <td>0.81191732</td>\n",
       "    </tr>\n",
       "    <tr>\n",
       "      <th>2017-03-01</th>\n",
       "      <td>3008748.23100000</td>\n",
       "      <td>0.62133725</td>\n",
       "      <td>0.48733368</td>\n",
       "      <td>0.89488966</td>\n",
       "      <td>0.41611572</td>\n",
       "      <td>0.37318444</td>\n",
       "      <td>1.19529376</td>\n",
       "      <td>0.90783455</td>\n",
       "      <td>0.56465662</td>\n",
       "      <td>0.97365971</td>\n",
       "      <td>0.62881973</td>\n",
       "      <td>0.84598025</td>\n",
       "    </tr>\n",
       "    <tr>\n",
       "      <th>2017-04-01</th>\n",
       "      <td>489400.00000000</td>\n",
       "      <td>0.60793611</td>\n",
       "      <td>0.47772207</td>\n",
       "      <td>0.88305223</td>\n",
       "      <td>0.39896656</td>\n",
       "      <td>0.37062960</td>\n",
       "      <td>1.17412125</td>\n",
       "      <td>0.90489678</td>\n",
       "      <td>0.53706105</td>\n",
       "      <td>0.97787627</td>\n",
       "      <td>0.61808475</td>\n",
       "      <td>0.83335653</td>\n",
       "    </tr>\n",
       "    <tr>\n",
       "      <th>2017-07-01</th>\n",
       "      <td>1459550.00000000</td>\n",
       "      <td>0.59531388</td>\n",
       "      <td>0.38570310</td>\n",
       "      <td>0.86044328</td>\n",
       "      <td>0.37602520</td>\n",
       "      <td>0.34429174</td>\n",
       "      <td>1.10821103</td>\n",
       "      <td>0.93404949</td>\n",
       "      <td>0.53782945</td>\n",
       "      <td>1.00667063</td>\n",
       "      <td>0.63327735</td>\n",
       "      <td>0.81337647</td>\n",
       "    </tr>\n",
       "    <tr>\n",
       "      <th>2017-08-01</th>\n",
       "      <td>2140161.00000000</td>\n",
       "      <td>0.58726640</td>\n",
       "      <td>0.33765696</td>\n",
       "      <td>0.82505176</td>\n",
       "      <td>0.35816044</td>\n",
       "      <td>0.32081198</td>\n",
       "      <td>1.09404977</td>\n",
       "      <td>0.91599117</td>\n",
       "      <td>0.52125485</td>\n",
       "      <td>0.99807967</td>\n",
       "      <td>0.58924898</td>\n",
       "      <td>0.79628014</td>\n",
       "    </tr>\n",
       "    <tr>\n",
       "      <th>2017-09-01</th>\n",
       "      <td>2588701.00000000</td>\n",
       "      <td>0.59849116</td>\n",
       "      <td>0.31701966</td>\n",
       "      <td>0.82575758</td>\n",
       "      <td>0.34920056</td>\n",
       "      <td>0.29529586</td>\n",
       "      <td>1.08621035</td>\n",
       "      <td>0.92667281</td>\n",
       "      <td>0.52113940</td>\n",
       "      <td>1.08584263</td>\n",
       "      <td>0.59445958</td>\n",
       "      <td>0.79892030</td>\n",
       "    </tr>\n",
       "    <tr>\n",
       "      <th>2017-10-01</th>\n",
       "      <td>4721966.00000000</td>\n",
       "      <td>0.62736972</td>\n",
       "      <td>0.36564049</td>\n",
       "      <td>0.87876777</td>\n",
       "      <td>0.37108019</td>\n",
       "      <td>0.30344955</td>\n",
       "      <td>1.17240206</td>\n",
       "      <td>0.90945699</td>\n",
       "      <td>0.51390123</td>\n",
       "      <td>1.07779934</td>\n",
       "      <td>0.56791395</td>\n",
       "      <td>0.82901733</td>\n",
       "    </tr>\n",
       "    <tr>\n",
       "      <th>2017-11-01</th>\n",
       "      <td>2485377.91000000</td>\n",
       "      <td>0.68091339</td>\n",
       "      <td>0.40864234</td>\n",
       "      <td>0.90838930</td>\n",
       "      <td>0.42667110</td>\n",
       "      <td>0.30363824</td>\n",
       "      <td>1.25791686</td>\n",
       "      <td>0.94382340</td>\n",
       "      <td>0.54460555</td>\n",
       "      <td>1.14911366</td>\n",
       "      <td>0.59418920</td>\n",
       "      <td>0.88483448</td>\n",
       "    </tr>\n",
       "    <tr>\n",
       "      <th>2017-12-01</th>\n",
       "      <td>4441429.73000000</td>\n",
       "      <td>0.68698252</td>\n",
       "      <td>0.37933733</td>\n",
       "      <td>0.91923843</td>\n",
       "      <td>0.43849791</td>\n",
       "      <td>0.30408012</td>\n",
       "      <td>1.30378651</td>\n",
       "      <td>0.96665553</td>\n",
       "      <td>0.54065991</td>\n",
       "      <td>1.17757450</td>\n",
       "      <td>0.61177425</td>\n",
       "      <td>0.90612918</td>\n",
       "    </tr>\n",
       "    <tr>\n",
       "      <th>2018-01-01</th>\n",
       "      <td>393370.00000000</td>\n",
       "      <td>0.73547169</td>\n",
       "      <td>0.41519300</td>\n",
       "      <td>0.99875019</td>\n",
       "      <td>0.50270061</td>\n",
       "      <td>0.34512034</td>\n",
       "      <td>1.43314844</td>\n",
       "      <td>0.97938176</td>\n",
       "      <td>0.55279420</td>\n",
       "      <td>1.37678482</td>\n",
       "      <td>0.60227758</td>\n",
       "      <td>0.96877721</td>\n",
       "    </tr>\n",
       "    <tr>\n",
       "      <th>2018-03-01</th>\n",
       "      <td>195814.37300000</td>\n",
       "      <td>0.70683483</td>\n",
       "      <td>0.39073358</td>\n",
       "      <td>0.92535987</td>\n",
       "      <td>0.52335190</td>\n",
       "      <td>0.32414865</td>\n",
       "      <td>1.37407239</td>\n",
       "      <td>0.97473857</td>\n",
       "      <td>0.53324289</td>\n",
       "      <td>1.23580089</td>\n",
       "      <td>0.57772968</td>\n",
       "      <td>0.94116248</td>\n",
       "    </tr>\n",
       "    <tr>\n",
       "      <th>2018-05-01</th>\n",
       "      <td>840000.00000000</td>\n",
       "      <td>0.70516400</td>\n",
       "      <td>0.36505065</td>\n",
       "      <td>0.91436903</td>\n",
       "      <td>0.56161987</td>\n",
       "      <td>0.32776416</td>\n",
       "      <td>1.29055599</td>\n",
       "      <td>0.95773140</td>\n",
       "      <td>0.50525261</td>\n",
       "      <td>1.23357378</td>\n",
       "      <td>0.57756647</td>\n",
       "      <td>0.91336779</td>\n",
       "    </tr>\n",
       "    <tr>\n",
       "      <th>2018-06-01</th>\n",
       "      <td>2417100.00000000</td>\n",
       "      <td>0.71762291</td>\n",
       "      <td>0.36629272</td>\n",
       "      <td>0.94320004</td>\n",
       "      <td>0.59057815</td>\n",
       "      <td>0.34336583</td>\n",
       "      <td>1.28282985</td>\n",
       "      <td>0.94087782</td>\n",
       "      <td>0.49417604</td>\n",
       "      <td>1.23963935</td>\n",
       "      <td>0.57861934</td>\n",
       "      <td>0.91182144</td>\n",
       "    </tr>\n",
       "    <tr>\n",
       "      <th>2018-07-01</th>\n",
       "      <td>706988.95340000</td>\n",
       "      <td>0.64316677</td>\n",
       "      <td>0.36732443</td>\n",
       "      <td>0.85444163</td>\n",
       "      <td>0.53929172</td>\n",
       "      <td>0.35230645</td>\n",
       "      <td>1.10080742</td>\n",
       "      <td>0.90959831</td>\n",
       "      <td>0.46463134</td>\n",
       "      <td>1.17107649</td>\n",
       "      <td>0.55109540</td>\n",
       "      <td>0.82727976</td>\n",
       "    </tr>\n",
       "    <tr>\n",
       "      <th>2018-10-01</th>\n",
       "      <td>5983.24570000</td>\n",
       "      <td>0.63539830</td>\n",
       "      <td>0.39458819</td>\n",
       "      <td>0.76947516</td>\n",
       "      <td>0.48146994</td>\n",
       "      <td>0.41052767</td>\n",
       "      <td>1.10450112</td>\n",
       "      <td>0.89308395</td>\n",
       "      <td>0.46405210</td>\n",
       "      <td>1.36295588</td>\n",
       "      <td>0.51051200</td>\n",
       "      <td>0.82030113</td>\n",
       "    </tr>\n",
       "    <tr>\n",
       "      <th>2018-12-01</th>\n",
       "      <td>310025.57790000</td>\n",
       "      <td>0.63375817</td>\n",
       "      <td>0.39608780</td>\n",
       "      <td>0.74994721</td>\n",
       "      <td>0.43943350</td>\n",
       "      <td>0.42955894</td>\n",
       "      <td>1.05863070</td>\n",
       "      <td>0.89730560</td>\n",
       "      <td>0.47274627</td>\n",
       "      <td>1.43610024</td>\n",
       "      <td>0.50407612</td>\n",
       "      <td>0.80541227</td>\n",
       "    </tr>\n",
       "    <tr>\n",
       "      <th>2019-01-01</th>\n",
       "      <td>312294.44190000</td>\n",
       "      <td>0.61765022</td>\n",
       "      <td>0.41200104</td>\n",
       "      <td>0.77335084</td>\n",
       "      <td>0.44895100</td>\n",
       "      <td>0.42878338</td>\n",
       "      <td>1.07049559</td>\n",
       "      <td>0.94952663</td>\n",
       "      <td>0.45176345</td>\n",
       "      <td>1.67520669</td>\n",
       "      <td>0.54814223</td>\n",
       "      <td>0.82653512</td>\n",
       "    </tr>\n",
       "    <tr>\n",
       "      <th>2019-02-01</th>\n",
       "      <td>164.68240000</td>\n",
       "      <td>0.65730279</td>\n",
       "      <td>0.47988260</td>\n",
       "      <td>0.79860143</td>\n",
       "      <td>0.49594783</td>\n",
       "      <td>0.42496291</td>\n",
       "      <td>1.13220160</td>\n",
       "      <td>0.96957137</td>\n",
       "      <td>0.45765618</td>\n",
       "      <td>1.81918893</td>\n",
       "      <td>0.55479651</td>\n",
       "      <td>0.86921642</td>\n",
       "    </tr>\n",
       "    <tr>\n",
       "      <th>2019-03-01</th>\n",
       "      <td>279.44840000</td>\n",
       "      <td>0.66757239</td>\n",
       "      <td>0.47704148</td>\n",
       "      <td>0.79228195</td>\n",
       "      <td>0.50928165</td>\n",
       "      <td>0.39978098</td>\n",
       "      <td>1.18233996</td>\n",
       "      <td>0.95585995</td>\n",
       "      <td>0.46991941</td>\n",
       "      <td>1.93212653</td>\n",
       "      <td>0.53675974</td>\n",
       "      <td>0.88447283</td>\n",
       "    </tr>\n",
       "    <tr>\n",
       "      <th>2019-04-01</th>\n",
       "      <td>1066006.05400000</td>\n",
       "      <td>0.67225349</td>\n",
       "      <td>0.51774067</td>\n",
       "      <td>0.75002200</td>\n",
       "      <td>0.49871445</td>\n",
       "      <td>0.38140680</td>\n",
       "      <td>1.19432949</td>\n",
       "      <td>0.94491053</td>\n",
       "      <td>0.49647403</td>\n",
       "      <td>1.75836597</td>\n",
       "      <td>0.52783172</td>\n",
       "      <td>0.88447361</td>\n",
       "    </tr>\n",
       "    <tr>\n",
       "      <th>2019-05-01</th>\n",
       "      <td>5704119.00000000</td>\n",
       "      <td>0.63123719</td>\n",
       "      <td>0.55752107</td>\n",
       "      <td>0.70395900</td>\n",
       "      <td>0.47056201</td>\n",
       "      <td>0.36508192</td>\n",
       "      <td>1.09853834</td>\n",
       "      <td>0.94374556</td>\n",
       "      <td>0.46483626</td>\n",
       "      <td>1.68205290</td>\n",
       "      <td>0.51407037</td>\n",
       "      <td>0.84507107</td>\n",
       "    </tr>\n",
       "    <tr>\n",
       "      <th>2019-06-01</th>\n",
       "      <td>648015.00000000</td>\n",
       "      <td>0.61662209</td>\n",
       "      <td>0.60019567</td>\n",
       "      <td>0.73546264</td>\n",
       "      <td>0.46696609</td>\n",
       "      <td>0.36454006</td>\n",
       "      <td>1.04443583</td>\n",
       "      <td>1.00074514</td>\n",
       "      <td>0.45282979</td>\n",
       "      <td>1.82112128</td>\n",
       "      <td>0.52770830</td>\n",
       "      <td>0.84690845</td>\n",
       "    </tr>\n",
       "    <tr>\n",
       "      <th>2019-07-01</th>\n",
       "      <td>1746765.00000000</td>\n",
       "      <td>0.61835498</td>\n",
       "      <td>0.65518552</td>\n",
       "      <td>0.76486307</td>\n",
       "      <td>0.52961302</td>\n",
       "      <td>0.37427429</td>\n",
       "      <td>1.02345887</td>\n",
       "      <td>1.04052991</td>\n",
       "      <td>0.47124425</td>\n",
       "      <td>1.94738011</td>\n",
       "      <td>0.55365947</td>\n",
       "      <td>0.86422833</td>\n",
       "    </tr>\n",
       "    <tr>\n",
       "      <th>2019-08-01</th>\n",
       "      <td>210904.98000000</td>\n",
       "      <td>0.59222053</td>\n",
       "      <td>0.51226194</td>\n",
       "      <td>0.79198782</td>\n",
       "      <td>0.61567116</td>\n",
       "      <td>0.37510116</td>\n",
       "      <td>0.95832687</td>\n",
       "      <td>1.10501444</td>\n",
       "      <td>0.48226412</td>\n",
       "      <td>1.83159801</td>\n",
       "      <td>0.60367420</td>\n",
       "      <td>0.85715915</td>\n",
       "    </tr>\n",
       "    <tr>\n",
       "      <th>2019-09-01</th>\n",
       "      <td>2079754.12000000</td>\n",
       "      <td>0.59699736</td>\n",
       "      <td>0.50547874</td>\n",
       "      <td>0.80210811</td>\n",
       "      <td>0.69032216</td>\n",
       "      <td>0.37685460</td>\n",
       "      <td>0.97364905</td>\n",
       "      <td>1.10849020</td>\n",
       "      <td>0.52766529</td>\n",
       "      <td>2.02228810</td>\n",
       "      <td>0.63633357</td>\n",
       "      <td>0.87455901</td>\n",
       "    </tr>\n",
       "    <tr>\n",
       "      <th>2019-10-01</th>\n",
       "      <td>6105136.46700000</td>\n",
       "      <td>0.60124977</td>\n",
       "      <td>0.48534466</td>\n",
       "      <td>0.84556212</td>\n",
       "      <td>0.66644735</td>\n",
       "      <td>0.36675913</td>\n",
       "      <td>1.01493339</td>\n",
       "      <td>1.09884216</td>\n",
       "      <td>0.50336106</td>\n",
       "      <td>2.18118495</td>\n",
       "      <td>0.61899760</td>\n",
       "      <td>0.88315330</td>\n",
       "    </tr>\n",
       "    <tr>\n",
       "      <th>2019-11-01</th>\n",
       "      <td>1738547.90400000</td>\n",
       "      <td>0.61086088</td>\n",
       "      <td>0.45421341</td>\n",
       "      <td>0.78248345</td>\n",
       "      <td>0.59316457</td>\n",
       "      <td>0.37413452</td>\n",
       "      <td>1.00592971</td>\n",
       "      <td>1.08080159</td>\n",
       "      <td>0.50548594</td>\n",
       "      <td>2.23182009</td>\n",
       "      <td>0.60234230</td>\n",
       "      <td>0.86947785</td>\n",
       "    </tr>\n",
       "    <tr>\n",
       "      <th>2019-12-01</th>\n",
       "      <td>268344.41200000</td>\n",
       "      <td>0.63664970</td>\n",
       "      <td>0.49844058</td>\n",
       "      <td>0.73698219</td>\n",
       "      <td>0.54224795</td>\n",
       "      <td>0.37820340</td>\n",
       "      <td>0.95415856</td>\n",
       "      <td>1.08932374</td>\n",
       "      <td>0.51882803</td>\n",
       "      <td>2.39667185</td>\n",
       "      <td>0.60312999</td>\n",
       "      <td>0.86332164</td>\n",
       "    </tr>\n",
       "    <tr>\n",
       "      <th>2020-01-01</th>\n",
       "      <td>1482269.14900000</td>\n",
       "      <td>0.63351330</td>\n",
       "      <td>0.52167107</td>\n",
       "      <td>0.74466832</td>\n",
       "      <td>0.52882429</td>\n",
       "      <td>0.36482389</td>\n",
       "      <td>0.98348642</td>\n",
       "      <td>1.14758115</td>\n",
       "      <td>0.55338378</td>\n",
       "      <td>2.82366289</td>\n",
       "      <td>0.63125116</td>\n",
       "      <td>0.89576994</td>\n",
       "    </tr>\n",
       "    <tr>\n",
       "      <th>2020-02-01</th>\n",
       "      <td>5961228.06500000</td>\n",
       "      <td>0.59377754</td>\n",
       "      <td>0.48007435</td>\n",
       "      <td>0.72494677</td>\n",
       "      <td>0.49713344</td>\n",
       "      <td>0.36580119</td>\n",
       "      <td>0.89466551</td>\n",
       "      <td>1.17329202</td>\n",
       "      <td>0.53648410</td>\n",
       "      <td>3.18611594</td>\n",
       "      <td>0.62723994</td>\n",
       "      <td>0.86896767</td>\n",
       "    </tr>\n",
       "    <tr>\n",
       "      <th>2020-03-01</th>\n",
       "      <td>1493641.25100000</td>\n",
       "      <td>0.54487049</td>\n",
       "      <td>0.48573987</td>\n",
       "      <td>0.67148330</td>\n",
       "      <td>0.46314596</td>\n",
       "      <td>0.36984084</td>\n",
       "      <td>0.80801601</td>\n",
       "      <td>1.17053533</td>\n",
       "      <td>0.42756644</td>\n",
       "      <td>2.69097764</td>\n",
       "      <td>0.52583970</td>\n",
       "      <td>0.81707619</td>\n",
       "    </tr>\n",
       "    <tr>\n",
       "      <th>2020-04-01</th>\n",
       "      <td>750000.00000000</td>\n",
       "      <td>0.52962237</td>\n",
       "      <td>0.45884425</td>\n",
       "      <td>0.64331327</td>\n",
       "      <td>0.46076852</td>\n",
       "      <td>0.45751281</td>\n",
       "      <td>0.80348977</td>\n",
       "      <td>1.23871541</td>\n",
       "      <td>0.42252047</td>\n",
       "      <td>2.64402500</td>\n",
       "      <td>0.53085576</td>\n",
       "      <td>0.82922370</td>\n",
       "    </tr>\n",
       "    <tr>\n",
       "      <th>2020-05-01</th>\n",
       "      <td>266664.60690000</td>\n",
       "      <td>0.54922929</td>\n",
       "      <td>0.50039134</td>\n",
       "      <td>0.62964106</td>\n",
       "      <td>0.47634332</td>\n",
       "      <td>0.50268475</td>\n",
       "      <td>0.83045864</td>\n",
       "      <td>1.26292111</td>\n",
       "      <td>0.44671763</td>\n",
       "      <td>2.42071267</td>\n",
       "      <td>0.57349497</td>\n",
       "      <td>0.84992506</td>\n",
       "    </tr>\n",
       "    <tr>\n",
       "      <th>2020-06-01</th>\n",
       "      <td>519.88096700</td>\n",
       "      <td>0.59815388</td>\n",
       "      <td>0.56617769</td>\n",
       "      <td>0.67551033</td>\n",
       "      <td>0.49758704</td>\n",
       "      <td>0.49163744</td>\n",
       "      <td>0.85414768</td>\n",
       "      <td>1.27634783</td>\n",
       "      <td>0.45939045</td>\n",
       "      <td>2.42779809</td>\n",
       "      <td>0.62261725</td>\n",
       "      <td>0.87866842</td>\n",
       "    </tr>\n",
       "    <tr>\n",
       "      <th>2020-07-01</th>\n",
       "      <td>447343.62190000</td>\n",
       "      <td>0.65971632</td>\n",
       "      <td>0.59182273</td>\n",
       "      <td>0.70380414</td>\n",
       "      <td>0.52398311</td>\n",
       "      <td>0.48277642</td>\n",
       "      <td>0.91922513</td>\n",
       "      <td>1.35950404</td>\n",
       "      <td>0.48251434</td>\n",
       "      <td>2.57611332</td>\n",
       "      <td>0.72480224</td>\n",
       "      <td>0.94375011</td>\n",
       "    </tr>\n",
       "    <tr>\n",
       "      <th>2020-08-01</th>\n",
       "      <td>280547.41480000</td>\n",
       "      <td>0.67153543</td>\n",
       "      <td>0.65783981</td>\n",
       "      <td>0.74962060</td>\n",
       "      <td>0.56986202</td>\n",
       "      <td>0.46753568</td>\n",
       "      <td>1.01921578</td>\n",
       "      <td>1.44882746</td>\n",
       "      <td>0.52727465</td>\n",
       "      <td>2.73614938</td>\n",
       "      <td>0.95037067</td>\n",
       "      <td>1.01805998</td>\n",
       "    </tr>\n",
       "    <tr>\n",
       "      <th>2020-09-01</th>\n",
       "      <td>-38490.48896000</td>\n",
       "      <td>0.69195732</td>\n",
       "      <td>0.67388469</td>\n",
       "      <td>0.72509168</td>\n",
       "      <td>0.58087573</td>\n",
       "      <td>0.44702590</td>\n",
       "      <td>1.03702170</td>\n",
       "      <td>1.41377492</td>\n",
       "      <td>0.50720575</td>\n",
       "      <td>2.88915217</td>\n",
       "      <td>0.90725966</td>\n",
       "      <td>1.02044050</td>\n",
       "    </tr>\n",
       "    <tr>\n",
       "      <th>2020-10-01</th>\n",
       "      <td>371236.91430000</td>\n",
       "      <td>0.70364089</td>\n",
       "      <td>0.65333942</td>\n",
       "      <td>0.68767518</td>\n",
       "      <td>0.59580570</td>\n",
       "      <td>0.43741570</td>\n",
       "      <td>1.03278970</td>\n",
       "      <td>1.39659742</td>\n",
       "      <td>0.48829572</td>\n",
       "      <td>2.95074945</td>\n",
       "      <td>0.85036184</td>\n",
       "      <td>1.01594774</td>\n",
       "    </tr>\n",
       "    <tr>\n",
       "      <th>2020-11-01</th>\n",
       "      <td>1669130.69900000</td>\n",
       "      <td>0.74198767</td>\n",
       "      <td>0.67675450</td>\n",
       "      <td>0.74162749</td>\n",
       "      <td>0.61802697</td>\n",
       "      <td>0.43478875</td>\n",
       "      <td>1.12853719</td>\n",
       "      <td>1.37137477</td>\n",
       "      <td>0.51216675</td>\n",
       "      <td>2.96644831</td>\n",
       "      <td>0.84483281</td>\n",
       "      <td>1.04877401</td>\n",
       "    </tr>\n",
       "    <tr>\n",
       "      <th>2020-12-01</th>\n",
       "      <td>597540.88490000</td>\n",
       "      <td>0.81514497</td>\n",
       "      <td>0.83860411</td>\n",
       "      <td>0.77980357</td>\n",
       "      <td>0.65809058</td>\n",
       "      <td>0.44568443</td>\n",
       "      <td>1.17922248</td>\n",
       "      <td>1.36746475</td>\n",
       "      <td>0.57561801</td>\n",
       "      <td>2.94694230</td>\n",
       "      <td>0.88039075</td>\n",
       "      <td>1.09291227</td>\n",
       "    </tr>\n",
       "    <tr>\n",
       "      <th>2021-01-01</th>\n",
       "      <td>433407.20440000</td>\n",
       "      <td>0.83303292</td>\n",
       "      <td>0.91351422</td>\n",
       "      <td>0.77927585</td>\n",
       "      <td>0.69594930</td>\n",
       "      <td>0.45213367</td>\n",
       "      <td>1.14629330</td>\n",
       "      <td>1.37196730</td>\n",
       "      <td>0.60923680</td>\n",
       "      <td>2.99022006</td>\n",
       "      <td>0.90969389</td>\n",
       "      <td>1.09833905</td>\n",
       "    </tr>\n",
       "    <tr>\n",
       "      <th>2021-02-01</th>\n",
       "      <td>810515.24800000</td>\n",
       "      <td>0.88606943</td>\n",
       "      <td>0.88933603</td>\n",
       "      <td>0.80530875</td>\n",
       "      <td>0.72658412</td>\n",
       "      <td>0.43586795</td>\n",
       "      <td>1.16236058</td>\n",
       "      <td>1.32920746</td>\n",
       "      <td>0.67684356</td>\n",
       "      <td>2.95689013</td>\n",
       "      <td>0.95816670</td>\n",
       "      <td>1.10594935</td>\n",
       "    </tr>\n",
       "    <tr>\n",
       "      <th>2021-03-01</th>\n",
       "      <td>622656.71890000</td>\n",
       "      <td>0.94103177</td>\n",
       "      <td>0.91351989</td>\n",
       "      <td>0.75416200</td>\n",
       "      <td>0.64144292</td>\n",
       "      <td>0.43097665</td>\n",
       "      <td>1.17938000</td>\n",
       "      <td>1.26548442</td>\n",
       "      <td>0.66102657</td>\n",
       "      <td>3.12677905</td>\n",
       "      <td>0.89941831</td>\n",
       "      <td>1.09946837</td>\n",
       "    </tr>\n",
       "    <tr>\n",
       "      <th>2021-04-01</th>\n",
       "      <td>67416.47699000</td>\n",
       "      <td>0.97439290</td>\n",
       "      <td>0.97658492</td>\n",
       "      <td>0.77643121</td>\n",
       "      <td>0.64466566</td>\n",
       "      <td>0.44284462</td>\n",
       "      <td>1.19720103</td>\n",
       "      <td>1.29313478</td>\n",
       "      <td>0.67600259</td>\n",
       "      <td>3.49401180</td>\n",
       "      <td>0.90087868</td>\n",
       "      <td>1.12972552</td>\n",
       "    </tr>\n",
       "    <tr>\n",
       "      <th>2021-05-01</th>\n",
       "      <td>541788.78770000</td>\n",
       "      <td>1.06746682</td>\n",
       "      <td>1.11140099</td>\n",
       "      <td>0.84412164</td>\n",
       "      <td>0.68827527</td>\n",
       "      <td>0.45863360</td>\n",
       "      <td>1.25479151</td>\n",
       "      <td>1.36185036</td>\n",
       "      <td>0.67865921</td>\n",
       "      <td>3.62246737</td>\n",
       "      <td>0.96635549</td>\n",
       "      <td>1.20171440</td>\n",
       "    </tr>\n",
       "    <tr>\n",
       "      <th>2021-06-01</th>\n",
       "      <td>168359.74980000</td>\n",
       "      <td>1.01050078</td>\n",
       "      <td>1.17655883</td>\n",
       "      <td>0.84824975</td>\n",
       "      <td>0.70293801</td>\n",
       "      <td>0.47875641</td>\n",
       "      <td>1.24790049</td>\n",
       "      <td>1.34670851</td>\n",
       "      <td>0.62841237</td>\n",
       "      <td>3.42912947</td>\n",
       "      <td>0.94537714</td>\n",
       "      <td>1.18394957</td>\n",
       "    </tr>\n",
       "    <tr>\n",
       "      <th>2021-07-01</th>\n",
       "      <td>1186474.86900000</td>\n",
       "      <td>1.00210305</td>\n",
       "      <td>1.17431753</td>\n",
       "      <td>0.90496076</td>\n",
       "      <td>0.73573783</td>\n",
       "      <td>0.48206097</td>\n",
       "      <td>1.24413659</td>\n",
       "      <td>1.32741317</td>\n",
       "      <td>0.60839815</td>\n",
       "      <td>3.43743649</td>\n",
       "      <td>0.90250346</td>\n",
       "      <td>1.17717319</td>\n",
       "    </tr>\n",
       "    <tr>\n",
       "      <th>2021-08-01</th>\n",
       "      <td>-30155.84982000</td>\n",
       "      <td>0.98830042</td>\n",
       "      <td>0.88805351</td>\n",
       "      <td>0.93528614</td>\n",
       "      <td>0.74817669</td>\n",
       "      <td>0.47946453</td>\n",
       "      <td>1.25779995</td>\n",
       "      <td>1.31308687</td>\n",
       "      <td>0.56466689</td>\n",
       "      <td>3.18609892</td>\n",
       "      <td>0.84142871</td>\n",
       "      <td>1.15230170</td>\n",
       "    </tr>\n",
       "    <tr>\n",
       "      <th>2021-09-01</th>\n",
       "      <td>600915.81560000</td>\n",
       "      <td>0.99260333</td>\n",
       "      <td>0.70865360</td>\n",
       "      <td>0.89633402</td>\n",
       "      <td>0.77148211</td>\n",
       "      <td>0.62930838</td>\n",
       "      <td>1.28021662</td>\n",
       "      <td>1.31961326</td>\n",
       "      <td>0.54644029</td>\n",
       "      <td>2.78751318</td>\n",
       "      <td>0.83801370</td>\n",
       "      <td>1.14694711</td>\n",
       "    </tr>\n",
       "    <tr>\n",
       "      <th>2021-10-01</th>\n",
       "      <td>1200354.07300000</td>\n",
       "      <td>1.02429543</td>\n",
       "      <td>0.62718497</td>\n",
       "      <td>0.90779418</td>\n",
       "      <td>0.75700169</td>\n",
       "      <td>0.67221280</td>\n",
       "      <td>1.40393112</td>\n",
       "      <td>1.30583880</td>\n",
       "      <td>0.57069995</td>\n",
       "      <td>2.54443444</td>\n",
       "      <td>0.82106368</td>\n",
       "      <td>1.17589519</td>\n",
       "    </tr>\n",
       "    <tr>\n",
       "      <th>2021-11-01</th>\n",
       "      <td>5210603.23700000</td>\n",
       "      <td>1.00561911</td>\n",
       "      <td>0.49906316</td>\n",
       "      <td>0.90204308</td>\n",
       "      <td>0.77930508</td>\n",
       "      <td>0.69034934</td>\n",
       "      <td>1.37106318</td>\n",
       "      <td>1.33642416</td>\n",
       "      <td>0.57644908</td>\n",
       "      <td>2.51548078</td>\n",
       "      <td>0.84756094</td>\n",
       "      <td>1.16602960</td>\n",
       "    </tr>\n",
       "    <tr>\n",
       "      <th>2021-12-01</th>\n",
       "      <td>6308381.00100000</td>\n",
       "      <td>0.99829398</td>\n",
       "      <td>0.60516226</td>\n",
       "      <td>0.89132943</td>\n",
       "      <td>0.78295409</td>\n",
       "      <td>0.66339827</td>\n",
       "      <td>1.41105179</td>\n",
       "      <td>1.31840925</td>\n",
       "      <td>0.53064146</td>\n",
       "      <td>2.30322821</td>\n",
       "      <td>0.79146763</td>\n",
       "      <td>1.17134376</td>\n",
       "    </tr>\n",
       "  </tbody>\n",
       "</table>\n",
       "</div>"
      ],
      "text/plain": [
       "                    revenue  copper_index  ironore_index  lead_index  \\\n",
       "date                                                                   \n",
       "2017-01-01 1252216.06900000    0.59973271     0.44278159  0.86394432   \n",
       "2017-03-01 3008748.23100000    0.62133725     0.48733368  0.89488966   \n",
       "2017-04-01  489400.00000000    0.60793611     0.47772207  0.88305223   \n",
       "2017-07-01 1459550.00000000    0.59531388     0.38570310  0.86044328   \n",
       "2017-08-01 2140161.00000000    0.58726640     0.33765696  0.82505176   \n",
       "2017-09-01 2588701.00000000    0.59849116     0.31701966  0.82575758   \n",
       "2017-10-01 4721966.00000000    0.62736972     0.36564049  0.87876777   \n",
       "2017-11-01 2485377.91000000    0.68091339     0.40864234  0.90838930   \n",
       "2017-12-01 4441429.73000000    0.68698252     0.37933733  0.91923843   \n",
       "2018-01-01  393370.00000000    0.73547169     0.41519300  0.99875019   \n",
       "2018-03-01  195814.37300000    0.70683483     0.39073358  0.92535987   \n",
       "2018-05-01  840000.00000000    0.70516400     0.36505065  0.91436903   \n",
       "2018-06-01 2417100.00000000    0.71762291     0.36629272  0.94320004   \n",
       "2018-07-01  706988.95340000    0.64316677     0.36732443  0.85444163   \n",
       "2018-10-01    5983.24570000    0.63539830     0.39458819  0.76947516   \n",
       "2018-12-01  310025.57790000    0.63375817     0.39608780  0.74994721   \n",
       "2019-01-01  312294.44190000    0.61765022     0.41200104  0.77335084   \n",
       "2019-02-01     164.68240000    0.65730279     0.47988260  0.79860143   \n",
       "2019-03-01     279.44840000    0.66757239     0.47704148  0.79228195   \n",
       "2019-04-01 1066006.05400000    0.67225349     0.51774067  0.75002200   \n",
       "2019-05-01 5704119.00000000    0.63123719     0.55752107  0.70395900   \n",
       "2019-06-01  648015.00000000    0.61662209     0.60019567  0.73546264   \n",
       "2019-07-01 1746765.00000000    0.61835498     0.65518552  0.76486307   \n",
       "2019-08-01  210904.98000000    0.59222053     0.51226194  0.79198782   \n",
       "2019-09-01 2079754.12000000    0.59699736     0.50547874  0.80210811   \n",
       "2019-10-01 6105136.46700000    0.60124977     0.48534466  0.84556212   \n",
       "2019-11-01 1738547.90400000    0.61086088     0.45421341  0.78248345   \n",
       "2019-12-01  268344.41200000    0.63664970     0.49844058  0.73698219   \n",
       "2020-01-01 1482269.14900000    0.63351330     0.52167107  0.74466832   \n",
       "2020-02-01 5961228.06500000    0.59377754     0.48007435  0.72494677   \n",
       "2020-03-01 1493641.25100000    0.54487049     0.48573987  0.67148330   \n",
       "2020-04-01  750000.00000000    0.52962237     0.45884425  0.64331327   \n",
       "2020-05-01  266664.60690000    0.54922929     0.50039134  0.62964106   \n",
       "2020-06-01     519.88096700    0.59815388     0.56617769  0.67551033   \n",
       "2020-07-01  447343.62190000    0.65971632     0.59182273  0.70380414   \n",
       "2020-08-01  280547.41480000    0.67153543     0.65783981  0.74962060   \n",
       "2020-09-01  -38490.48896000    0.69195732     0.67388469  0.72509168   \n",
       "2020-10-01  371236.91430000    0.70364089     0.65333942  0.68767518   \n",
       "2020-11-01 1669130.69900000    0.74198767     0.67675450  0.74162749   \n",
       "2020-12-01  597540.88490000    0.81514497     0.83860411  0.77980357   \n",
       "2021-01-01  433407.20440000    0.83303292     0.91351422  0.77927585   \n",
       "2021-02-01  810515.24800000    0.88606943     0.88933603  0.80530875   \n",
       "2021-03-01  622656.71890000    0.94103177     0.91351989  0.75416200   \n",
       "2021-04-01   67416.47699000    0.97439290     0.97658492  0.77643121   \n",
       "2021-05-01  541788.78770000    1.06746682     1.11140099  0.84412164   \n",
       "2021-06-01  168359.74980000    1.01050078     1.17655883  0.84824975   \n",
       "2021-07-01 1186474.86900000    1.00210305     1.17431753  0.90496076   \n",
       "2021-08-01  -30155.84982000    0.98830042     0.88805351  0.93528614   \n",
       "2021-09-01  600915.81560000    0.99260333     0.70865360  0.89633402   \n",
       "2021-10-01 1200354.07300000    1.02429543     0.62718497  0.90779418   \n",
       "2021-11-01 5210603.23700000    1.00561911     0.49906316  0.90204308   \n",
       "2021-12-01 6308381.00100000    0.99829398     0.60516226  0.89132943   \n",
       "\n",
       "            nickel_index  uranium_index  zinc_index  gold_index  \\\n",
       "date                                                              \n",
       "2017-01-01    0.38983604     0.33916914  1.14686175  0.87787057   \n",
       "2017-03-01    0.41611572     0.37318444  1.19529376  0.90783455   \n",
       "2017-04-01    0.39896656     0.37062960  1.17412125  0.90489678   \n",
       "2017-07-01    0.37602520     0.34429174  1.10821103  0.93404949   \n",
       "2017-08-01    0.35816044     0.32081198  1.09404977  0.91599117   \n",
       "2017-09-01    0.34920056     0.29529586  1.08621035  0.92667281   \n",
       "2017-10-01    0.37108019     0.30344955  1.17240206  0.90945699   \n",
       "2017-11-01    0.42667110     0.30363824  1.25791686  0.94382340   \n",
       "2017-12-01    0.43849791     0.30408012  1.30378651  0.96665553   \n",
       "2018-01-01    0.50270061     0.34512034  1.43314844  0.97938176   \n",
       "2018-03-01    0.52335190     0.32414865  1.37407239  0.97473857   \n",
       "2018-05-01    0.56161987     0.32776416  1.29055599  0.95773140   \n",
       "2018-06-01    0.59057815     0.34336583  1.28282985  0.94087782   \n",
       "2018-07-01    0.53929172     0.35230645  1.10080742  0.90959831   \n",
       "2018-10-01    0.48146994     0.41052767  1.10450112  0.89308395   \n",
       "2018-12-01    0.43943350     0.42955894  1.05863070  0.89730560   \n",
       "2019-01-01    0.44895100     0.42878338  1.07049559  0.94952663   \n",
       "2019-02-01    0.49594783     0.42496291  1.13220160  0.96957137   \n",
       "2019-03-01    0.50928165     0.39978098  1.18233996  0.95585995   \n",
       "2019-04-01    0.49871445     0.38140680  1.19432949  0.94491053   \n",
       "2019-05-01    0.47056201     0.36508192  1.09853834  0.94374556   \n",
       "2019-06-01    0.46696609     0.36454006  1.04443583  1.00074514   \n",
       "2019-07-01    0.52961302     0.37427429  1.02345887  1.04052991   \n",
       "2019-08-01    0.61567116     0.37510116  0.95832687  1.10501444   \n",
       "2019-09-01    0.69032216     0.37685460  0.97364905  1.10849020   \n",
       "2019-10-01    0.66644735     0.36675913  1.01493339  1.09884216   \n",
       "2019-11-01    0.59316457     0.37413452  1.00592971  1.08080159   \n",
       "2019-12-01    0.54224795     0.37820340  0.95415856  1.08932374   \n",
       "2020-01-01    0.52882429     0.36482389  0.98348642  1.14758115   \n",
       "2020-02-01    0.49713344     0.36580119  0.89466551  1.17329202   \n",
       "2020-03-01    0.46314596     0.36984084  0.80801601  1.17053533   \n",
       "2020-04-01    0.46076852     0.45751281  0.80348977  1.23871541   \n",
       "2020-05-01    0.47634332     0.50268475  0.83045864  1.26292111   \n",
       "2020-06-01    0.49758704     0.49163744  0.85414768  1.27634783   \n",
       "2020-07-01    0.52398311     0.48277642  0.91922513  1.35950404   \n",
       "2020-08-01    0.56986202     0.46753568  1.01921578  1.44882746   \n",
       "2020-09-01    0.58087573     0.44702590  1.03702170  1.41377492   \n",
       "2020-10-01    0.59580570     0.43741570  1.03278970  1.39659742   \n",
       "2020-11-01    0.61802697     0.43478875  1.12853719  1.37137477   \n",
       "2020-12-01    0.65809058     0.44568443  1.17922248  1.36746475   \n",
       "2021-01-01    0.69594930     0.45213367  1.14629330  1.37196730   \n",
       "2021-02-01    0.72658412     0.43586795  1.16236058  1.32920746   \n",
       "2021-03-01    0.64144292     0.43097665  1.17938000  1.26548442   \n",
       "2021-04-01    0.64466566     0.44284462  1.19720103  1.29313478   \n",
       "2021-05-01    0.68827527     0.45863360  1.25479151  1.36185036   \n",
       "2021-06-01    0.70293801     0.47875641  1.24790049  1.34670851   \n",
       "2021-07-01    0.73573783     0.48206097  1.24413659  1.32741317   \n",
       "2021-08-01    0.74817669     0.47946453  1.25779995  1.31308687   \n",
       "2021-09-01    0.77148211     0.62930838  1.28021662  1.31961326   \n",
       "2021-10-01    0.75700169     0.67221280  1.40393112  1.30583880   \n",
       "2021-11-01    0.77930508     0.69034934  1.37106318  1.33642416   \n",
       "2021-12-01    0.78295409     0.66339827  1.41105179  1.31840925   \n",
       "\n",
       "            platinum_index  palladium_index  silver_index  commodity_index  \n",
       "date                                                                        \n",
       "2017-01-01      0.54352195       0.94126477    0.59236907       0.81191732  \n",
       "2017-03-01      0.56465662       0.97365971    0.62881973       0.84598025  \n",
       "2017-04-01      0.53706105       0.97787627    0.61808475       0.83335653  \n",
       "2017-07-01      0.53782945       1.00667063    0.63327735       0.81337647  \n",
       "2017-08-01      0.52125485       0.99807967    0.58924898       0.79628014  \n",
       "2017-09-01      0.52113940       1.08584263    0.59445958       0.79892030  \n",
       "2017-10-01      0.51390123       1.07779934    0.56791395       0.82901733  \n",
       "2017-11-01      0.54460555       1.14911366    0.59418920       0.88483448  \n",
       "2017-12-01      0.54065991       1.17757450    0.61177425       0.90612918  \n",
       "2018-01-01      0.55279420       1.37678482    0.60227758       0.96877721  \n",
       "2018-03-01      0.53324289       1.23580089    0.57772968       0.94116248  \n",
       "2018-05-01      0.50525261       1.23357378    0.57756647       0.91336779  \n",
       "2018-06-01      0.49417604       1.23963935    0.57861934       0.91182144  \n",
       "2018-07-01      0.46463134       1.17107649    0.55109540       0.82727976  \n",
       "2018-10-01      0.46405210       1.36295588    0.51051200       0.82030113  \n",
       "2018-12-01      0.47274627       1.43610024    0.50407612       0.80541227  \n",
       "2019-01-01      0.45176345       1.67520669    0.54814223       0.82653512  \n",
       "2019-02-01      0.45765618       1.81918893    0.55479651       0.86921642  \n",
       "2019-03-01      0.46991941       1.93212653    0.53675974       0.88447283  \n",
       "2019-04-01      0.49647403       1.75836597    0.52783172       0.88447361  \n",
       "2019-05-01      0.46483626       1.68205290    0.51407037       0.84507107  \n",
       "2019-06-01      0.45282979       1.82112128    0.52770830       0.84690845  \n",
       "2019-07-01      0.47124425       1.94738011    0.55365947       0.86422833  \n",
       "2019-08-01      0.48226412       1.83159801    0.60367420       0.85715915  \n",
       "2019-09-01      0.52766529       2.02228810    0.63633357       0.87455901  \n",
       "2019-10-01      0.50336106       2.18118495    0.61899760       0.88315330  \n",
       "2019-11-01      0.50548594       2.23182009    0.60234230       0.86947785  \n",
       "2019-12-01      0.51882803       2.39667185    0.60312999       0.86332164  \n",
       "2020-01-01      0.55338378       2.82366289    0.63125116       0.89576994  \n",
       "2020-02-01      0.53648410       3.18611594    0.62723994       0.86896767  \n",
       "2020-03-01      0.42756644       2.69097764    0.52583970       0.81707619  \n",
       "2020-04-01      0.42252047       2.64402500    0.53085576       0.82922370  \n",
       "2020-05-01      0.44671763       2.42071267    0.57349497       0.84992506  \n",
       "2020-06-01      0.45939045       2.42779809    0.62261725       0.87866842  \n",
       "2020-07-01      0.48251434       2.57611332    0.72480224       0.94375011  \n",
       "2020-08-01      0.52727465       2.73614938    0.95037067       1.01805998  \n",
       "2020-09-01      0.50720575       2.88915217    0.90725966       1.02044050  \n",
       "2020-10-01      0.48829572       2.95074945    0.85036184       1.01594774  \n",
       "2020-11-01      0.51216675       2.96644831    0.84483281       1.04877401  \n",
       "2020-12-01      0.57561801       2.94694230    0.88039075       1.09291227  \n",
       "2021-01-01      0.60923680       2.99022006    0.90969389       1.09833905  \n",
       "2021-02-01      0.67684356       2.95689013    0.95816670       1.10594935  \n",
       "2021-03-01      0.66102657       3.12677905    0.89941831       1.09946837  \n",
       "2021-04-01      0.67600259       3.49401180    0.90087868       1.12972552  \n",
       "2021-05-01      0.67865921       3.62246737    0.96635549       1.20171440  \n",
       "2021-06-01      0.62841237       3.42912947    0.94537714       1.18394957  \n",
       "2021-07-01      0.60839815       3.43743649    0.90250346       1.17717319  \n",
       "2021-08-01      0.56466689       3.18609892    0.84142871       1.15230170  \n",
       "2021-09-01      0.54644029       2.78751318    0.83801370       1.14694711  \n",
       "2021-10-01      0.57069995       2.54443444    0.82106368       1.17589519  \n",
       "2021-11-01      0.57644908       2.51548078    0.84756094       1.16602960  \n",
       "2021-12-01      0.53064146       2.30322821    0.79146763       1.17134376  "
      ]
     },
     "execution_count": 17,
     "metadata": {},
     "output_type": "execute_result"
    }
   ],
   "source": [
    "df_12_m_future=pd.read_csv(\"data-multiple.csv\",parse_dates=[\"date\"],index_col=[0])\n",
    "df_12_m_future"
   ]
  },
  {
   "cell_type": "code",
   "execution_count": 18,
   "id": "4ef8efcd",
   "metadata": {},
   "outputs": [
    {
     "data": {
      "text/html": [
       "<div>\n",
       "<style scoped>\n",
       "    .dataframe tbody tr th:only-of-type {\n",
       "        vertical-align: middle;\n",
       "    }\n",
       "\n",
       "    .dataframe tbody tr th {\n",
       "        vertical-align: top;\n",
       "    }\n",
       "\n",
       "    .dataframe thead th {\n",
       "        text-align: right;\n",
       "    }\n",
       "</style>\n",
       "<table border=\"1\" class=\"dataframe\">\n",
       "  <thead>\n",
       "    <tr style=\"text-align: right;\">\n",
       "      <th></th>\n",
       "      <th>0</th>\n",
       "      <th>1</th>\n",
       "      <th>2</th>\n",
       "      <th>3</th>\n",
       "      <th>4</th>\n",
       "      <th>5</th>\n",
       "      <th>6</th>\n",
       "      <th>7</th>\n",
       "      <th>8</th>\n",
       "      <th>9</th>\n",
       "      <th>10</th>\n",
       "      <th>11</th>\n",
       "    </tr>\n",
       "  </thead>\n",
       "  <tbody>\n",
       "    <tr>\n",
       "      <th>0</th>\n",
       "      <td>0.07681093</td>\n",
       "      <td>1.06264986</td>\n",
       "      <td>1.14362028</td>\n",
       "      <td>0.40539445</td>\n",
       "      <td>1.01649599</td>\n",
       "      <td>0.75624981</td>\n",
       "      <td>0.54442755</td>\n",
       "      <td>0.86538360</td>\n",
       "      <td>1.21959064</td>\n",
       "      <td>0.91273547</td>\n",
       "      <td>0.90885665</td>\n",
       "      <td>1.01829466</td>\n",
       "    </tr>\n",
       "    <tr>\n",
       "      <th>1</th>\n",
       "      <td>0.13819292</td>\n",
       "      <td>1.24840227</td>\n",
       "      <td>1.09726501</td>\n",
       "      <td>0.47592345</td>\n",
       "      <td>1.10630216</td>\n",
       "      <td>0.67781881</td>\n",
       "      <td>0.56994499</td>\n",
       "      <td>0.79049206</td>\n",
       "      <td>1.66118342</td>\n",
       "      <td>0.89788819</td>\n",
       "      <td>1.01746835</td>\n",
       "      <td>1.04395035</td>\n",
       "    </tr>\n",
       "    <tr>\n",
       "      <th>2</th>\n",
       "      <td>0.10761513</td>\n",
       "      <td>1.44089959</td>\n",
       "      <td>1.14363115</td>\n",
       "      <td>0.33735534</td>\n",
       "      <td>0.85671021</td>\n",
       "      <td>0.65423362</td>\n",
       "      <td>0.59697459</td>\n",
       "      <td>0.67888462</td>\n",
       "      <td>1.55787024</td>\n",
       "      <td>0.97356756</td>\n",
       "      <td>0.88583243</td>\n",
       "      <td>1.02210178</td>\n",
       "    </tr>\n",
       "    <tr>\n",
       "      <th>3</th>\n",
       "      <td>0.01723851</td>\n",
       "      <td>1.55774196</td>\n",
       "      <td>1.26454164</td>\n",
       "      <td>0.39768767</td>\n",
       "      <td>0.86615770</td>\n",
       "      <td>0.71145930</td>\n",
       "      <td>0.62527726</td>\n",
       "      <td>0.72731272</td>\n",
       "      <td>1.65569033</td>\n",
       "      <td>1.13715647</td>\n",
       "      <td>0.88910464</td>\n",
       "      <td>1.12410405</td>\n",
       "    </tr>\n",
       "    <tr>\n",
       "      <th>4</th>\n",
       "      <td>0.09445223</td>\n",
       "      <td>1.88371937</td>\n",
       "      <td>1.52301574</td>\n",
       "      <td>0.58107633</td>\n",
       "      <td>0.99399954</td>\n",
       "      <td>0.78759156</td>\n",
       "      <td>0.71674028</td>\n",
       "      <td>0.84766432</td>\n",
       "      <td>1.67304282</td>\n",
       "      <td>1.19437878</td>\n",
       "      <td>1.03581673</td>\n",
       "      <td>1.36679146</td>\n",
       "    </tr>\n",
       "    <tr>\n",
       "      <th>...</th>\n",
       "      <td>...</td>\n",
       "      <td>...</td>\n",
       "      <td>...</td>\n",
       "      <td>...</td>\n",
       "      <td>...</td>\n",
       "      <td>...</td>\n",
       "      <td>...</td>\n",
       "      <td>...</td>\n",
       "      <td>...</td>\n",
       "      <td>...</td>\n",
       "      <td>...</td>\n",
       "      <td>...</td>\n",
       "    </tr>\n",
       "    <tr>\n",
       "      <th>59</th>\n",
       "      <td>NaN</td>\n",
       "      <td>1.60645096</td>\n",
       "      <td>1.09480611</td>\n",
       "      <td>0.82806155</td>\n",
       "      <td>1.16960090</td>\n",
       "      <td>0.88803534</td>\n",
       "      <td>0.72151818</td>\n",
       "      <td>0.76225773</td>\n",
       "      <td>0.92846966</td>\n",
       "      <td>0.99999242</td>\n",
       "      <td>0.75589673</td>\n",
       "      <td>1.20021239</td>\n",
       "    </tr>\n",
       "    <tr>\n",
       "      <th>60</th>\n",
       "      <td>NaN</td>\n",
       "      <td>1.62152124</td>\n",
       "      <td>0.75085431</td>\n",
       "      <td>0.72253146</td>\n",
       "      <td>1.23792090</td>\n",
       "      <td>1.61056127</td>\n",
       "      <td>0.75711948</td>\n",
       "      <td>0.77368834</td>\n",
       "      <td>0.80941748</td>\n",
       "      <td>0.82243689</td>\n",
       "      <td>0.74824480</td>\n",
       "      <td>1.18216113</td>\n",
       "    </tr>\n",
       "    <tr>\n",
       "      <th>61</th>\n",
       "      <td>NaN</td>\n",
       "      <td>1.73251807</td>\n",
       "      <td>0.59465981</td>\n",
       "      <td>0.75357964</td>\n",
       "      <td>1.19547147</td>\n",
       "      <td>1.81744036</td>\n",
       "      <td>0.95359816</td>\n",
       "      <td>0.74956312</td>\n",
       "      <td>0.96787634</td>\n",
       "      <td>0.71415410</td>\n",
       "      <td>0.71026536</td>\n",
       "      <td>1.27975028</td>\n",
       "    </tr>\n",
       "    <tr>\n",
       "      <th>62</th>\n",
       "      <td>NaN</td>\n",
       "      <td>1.66710705</td>\n",
       "      <td>0.34902018</td>\n",
       "      <td>0.73799860</td>\n",
       "      <td>1.26085399</td>\n",
       "      <td>1.90489219</td>\n",
       "      <td>0.90139854</td>\n",
       "      <td>0.80313171</td>\n",
       "      <td>1.00542840</td>\n",
       "      <td>0.70125629</td>\n",
       "      <td>0.76963703</td>\n",
       "      <td>1.24649160</td>\n",
       "    </tr>\n",
       "    <tr>\n",
       "      <th>63</th>\n",
       "      <td>NaN</td>\n",
       "      <td>1.64145190</td>\n",
       "      <td>0.55243710</td>\n",
       "      <td>0.70897290</td>\n",
       "      <td>1.27155107</td>\n",
       "      <td>1.77493793</td>\n",
       "      <td>0.96490693</td>\n",
       "      <td>0.77157958</td>\n",
       "      <td>0.70622296</td>\n",
       "      <td>0.60670545</td>\n",
       "      <td>0.64395031</td>\n",
       "      <td>1.26440659</td>\n",
       "    </tr>\n",
       "  </tbody>\n",
       "</table>\n",
       "<p>64 rows × 12 columns</p>\n",
       "</div>"
      ],
      "text/plain": [
       "           0          1          2          3          4          5   \\\n",
       "0  0.07681093 1.06264986 1.14362028 0.40539445 1.01649599 0.75624981   \n",
       "1  0.13819292 1.24840227 1.09726501 0.47592345 1.10630216 0.67781881   \n",
       "2  0.10761513 1.44089959 1.14363115 0.33735534 0.85671021 0.65423362   \n",
       "3  0.01723851 1.55774196 1.26454164 0.39768767 0.86615770 0.71145930   \n",
       "4  0.09445223 1.88371937 1.52301574 0.58107633 0.99399954 0.78759156   \n",
       "..        ...        ...        ...        ...        ...        ...   \n",
       "59        NaN 1.60645096 1.09480611 0.82806155 1.16960090 0.88803534   \n",
       "60        NaN 1.62152124 0.75085431 0.72253146 1.23792090 1.61056127   \n",
       "61        NaN 1.73251807 0.59465981 0.75357964 1.19547147 1.81744036   \n",
       "62        NaN 1.66710705 0.34902018 0.73799860 1.26085399 1.90489219   \n",
       "63        NaN 1.64145190 0.55243710 0.70897290 1.27155107 1.77493793   \n",
       "\n",
       "           6          7          8          9          10         11  \n",
       "0  0.54442755 0.86538360 1.21959064 0.91273547 0.90885665 1.01829466  \n",
       "1  0.56994499 0.79049206 1.66118342 0.89788819 1.01746835 1.04395035  \n",
       "2  0.59697459 0.67888462 1.55787024 0.97356756 0.88583243 1.02210178  \n",
       "3  0.62527726 0.72731272 1.65569033 1.13715647 0.88910464 1.12410405  \n",
       "4  0.71674028 0.84766432 1.67304282 1.19437878 1.03581673 1.36679146  \n",
       "..        ...        ...        ...        ...        ...        ...  \n",
       "59 0.72151818 0.76225773 0.92846966 0.99999242 0.75589673 1.20021239  \n",
       "60 0.75711948 0.77368834 0.80941748 0.82243689 0.74824480 1.18216113  \n",
       "61 0.95359816 0.74956312 0.96787634 0.71415410 0.71026536 1.27975028  \n",
       "62 0.90139854 0.80313171 1.00542840 0.70125629 0.76963703 1.24649160  \n",
       "63 0.96490693 0.77157958 0.70622296 0.60670545 0.64395031 1.26440659  \n",
       "\n",
       "[64 rows x 12 columns]"
      ]
     },
     "execution_count": 18,
     "metadata": {},
     "output_type": "execute_result"
    }
   ],
   "source": [
    "df_12_m_future[\"revenue\"]=0\n",
    "df_12_m_future=df_12_m_future[['revenue','copper_index','ironore_index','lead_index','nickel_index','uranium_index','zinc_index','gold_index','platinum_index','palladium_index','silver_index','commodity_index']]\n",
    "old_scaled_array=scaler.transform(df_12_m_past)\n",
    "new_scaled_array=scaler.transform(df_12_m_future)\n",
    "new_scaled_df=pd.DataFrame(new_scaled_array)\n",
    "new_scaled_df.iloc[:,0]=np.nan\n",
    "full_df=pd.concat([pd.DataFrame(old_scaled_array),new_scaled_df]).reset_index().drop([\"index\"],axis=1)\n",
    "full_df"
   ]
  },
  {
   "cell_type": "code",
   "execution_count": 19,
   "id": "e53fc614",
   "metadata": {},
   "outputs": [],
   "source": [
    "full_df_scaled_array=full_df.values\n",
    "all_data=[]\n",
    "time_step=6\n",
    "for i in range(time_step,len(full_df_scaled_array)):\n",
    "    data_x=[]\n",
    "    data_x.append(\n",
    "     full_df_scaled_array[i-time_step :i , 0:full_df_scaled_array.shape[1]])\n",
    "    data_x=np.array(data_x)\n",
    "    prediction=model.predict(data_x)\n",
    "    all_data.append(prediction)\n",
    "    full_df.iloc[i,0]=prediction"
   ]
  },
  {
   "cell_type": "code",
   "execution_count": 20,
   "id": "84e26470",
   "metadata": {},
   "outputs": [
    {
     "name": "stdout",
     "output_type": "stream",
     "text": [
      "[1600723.   1676280.2  1731051.8  1805153.2  1861231.8  1867370.6\n",
      " 1865330.1  1773566.4  1750111.8  1732481.8  1657504.2  1545958.1\n",
      " 1369040.5  1315591.   1248056.5  1228846.4  1306001.4  1426417.9\n",
      " 1548755.6  1622733.2  1615572.2  1568085.   1432411.1  1322250.2\n",
      " 1244924.5  1167705.8  1168275.8  1174418.1  1189694.9  1205916.6\n",
      " 1190481.2  1172845.2  1157522.6  1169055.1  1162030.1  1115701.2\n",
      " 1060862.    942575.7   803288.2   688755.94  603715.7   528142.5\n",
      "  549172.3   666136.9   787202.2   897590.94 1016530.5  1140623.8\n",
      " 1225736.2  1321518.1  1443099.1  1543841.1  1611491.4  1687159.1\n",
      " 1741516.6  1814129.2  1866639.4  1870311.9 ]\n"
     ]
    }
   ],
   "source": [
    "new_array=np.array(all_data)\n",
    "new_array=new_array.reshape(-1,1)\n",
    "prediction_copies_array = np.repeat(new_array,12, axis=-1)\n",
    "y_pred_future_6_days = scaler.inverse_transform(np.reshape(prediction_copies_array,(len(new_array),12)))[:,0]\n",
    "print(y_pred_future_6_days)"
   ]
  },
  {
   "cell_type": "code",
   "execution_count": 26,
   "id": "8b32a8ec",
   "metadata": {},
   "outputs": [
    {
     "data": {
      "application/vnd.plotly.v1+json": {
       "config": {
        "plotlyServerURL": "https://plot.ly"
       },
       "data": [
        {
         "mode": "lines",
         "name": "Actual",
         "type": "scatter",
         "x": [
          "2017-01-01T00:00:00",
          "2017-03-01T00:00:00",
          "2017-04-01T00:00:00",
          "2017-07-01T00:00:00",
          "2017-08-01T00:00:00",
          "2017-09-01T00:00:00",
          "2017-10-01T00:00:00",
          "2017-11-01T00:00:00",
          "2017-12-01T00:00:00",
          "2018-01-01T00:00:00",
          "2018-03-01T00:00:00",
          "2018-05-01T00:00:00",
          "2018-06-01T00:00:00",
          "2018-07-01T00:00:00",
          "2018-10-01T00:00:00",
          "2018-12-01T00:00:00",
          "2019-01-01T00:00:00",
          "2019-02-01T00:00:00",
          "2019-03-01T00:00:00",
          "2019-04-01T00:00:00",
          "2019-05-01T00:00:00",
          "2019-06-01T00:00:00",
          "2019-07-01T00:00:00",
          "2019-08-01T00:00:00",
          "2019-09-01T00:00:00",
          "2019-10-01T00:00:00",
          "2019-11-01T00:00:00",
          "2019-12-01T00:00:00",
          "2020-01-01T00:00:00",
          "2020-02-01T00:00:00",
          "2020-03-01T00:00:00",
          "2020-04-01T00:00:00",
          "2020-05-01T00:00:00",
          "2020-06-01T00:00:00",
          "2020-07-01T00:00:00",
          "2020-08-01T00:00:00",
          "2020-09-01T00:00:00",
          "2020-10-01T00:00:00",
          "2020-11-01T00:00:00",
          "2020-12-01T00:00:00",
          "2021-01-01T00:00:00",
          "2021-02-01T00:00:00",
          "2021-03-01T00:00:00",
          "2021-04-01T00:00:00",
          "2021-05-01T00:00:00",
          "2021-06-01T00:00:00",
          "2021-07-01T00:00:00",
          "2021-08-01T00:00:00",
          "2021-09-01T00:00:00",
          "2021-10-01T00:00:00",
          "2021-11-01T00:00:00",
          "2021-12-01T00:00:00"
         ],
         "y": [
          1252216.069,
          3008748.231,
          489400,
          1459550,
          2140161,
          2588701,
          4721966,
          2485377.91,
          4441429.73,
          393370,
          195814.373,
          840000,
          2417100,
          706988.9534,
          5983.2457,
          310025.5779,
          312294.4419,
          164.6824,
          279.4484,
          1066006.054,
          5704119,
          648015,
          1746765,
          210904.98,
          2079754.12,
          6105136.467,
          1738547.904,
          268344.412,
          1482269.149,
          5961228.065,
          1493641.251,
          750000,
          266664.6069,
          519.880967,
          447343.6219,
          280547.4148,
          -38490.48896,
          371236.9143,
          1669130.699,
          597540.8849,
          433407.2044,
          810515.248,
          622656.7189,
          67416.47699,
          541788.7877,
          168359.7498,
          1186474.869,
          -30155.84982,
          600915.8156,
          1200354.073,
          5210603.237,
          6308381.001
         ]
        },
        {
         "mode": "lines",
         "name": "Predict",
         "type": "scatter",
         "x": [
          "2022-01-01T00:00:00",
          "2022-02-01T00:00:00",
          "2022-03-01T00:00:00",
          "2022-04-01T00:00:00",
          "2022-05-01T00:00:00",
          "2022-06-01T00:00:00",
          "2022-07-01T00:00:00",
          "2022-08-01T00:00:00",
          "2022-09-01T00:00:00",
          "2022-10-01T00:00:00",
          "2022-11-01T00:00:00"
         ],
         "y": [
          1600723,
          1676280.25,
          1731051.75,
          1805153.25,
          1861231.75,
          1867370.625,
          1865330.125,
          1773566.375,
          1750111.75,
          1732481.75,
          1657504.25,
          1545958.125,
          1369040.5,
          1315591,
          1248056.5,
          1228846.375,
          1306001.375,
          1426417.875,
          1548755.625,
          1622733.25,
          1615572.25,
          1568085,
          1432411.125,
          1322250.25,
          1244924.5,
          1167705.75,
          1168275.75,
          1174418.125,
          1189694.875,
          1205916.625,
          1190481.25,
          1172845.25,
          1157522.625,
          1169055.125,
          1162030.125,
          1115701.25,
          1060862,
          942575.6875,
          803288.1875,
          688755.9375,
          603715.6875,
          528142.5,
          549172.3125,
          666136.875,
          787202.1875,
          897590.9375,
          1016530.5,
          1140623.75,
          1225736.25,
          1321518.125,
          1443099.125,
          1543841.125,
          1611491.375,
          1687159.125,
          1741516.625,
          1814129.25,
          1866639.375,
          1870311.875
         ]
        }
       ],
       "layout": {
        "template": {
         "data": {
          "bar": [
           {
            "error_x": {
             "color": "#2a3f5f"
            },
            "error_y": {
             "color": "#2a3f5f"
            },
            "marker": {
             "line": {
              "color": "#E5ECF6",
              "width": 0.5
             },
             "pattern": {
              "fillmode": "overlay",
              "size": 10,
              "solidity": 0.2
             }
            },
            "type": "bar"
           }
          ],
          "barpolar": [
           {
            "marker": {
             "line": {
              "color": "#E5ECF6",
              "width": 0.5
             },
             "pattern": {
              "fillmode": "overlay",
              "size": 10,
              "solidity": 0.2
             }
            },
            "type": "barpolar"
           }
          ],
          "carpet": [
           {
            "aaxis": {
             "endlinecolor": "#2a3f5f",
             "gridcolor": "white",
             "linecolor": "white",
             "minorgridcolor": "white",
             "startlinecolor": "#2a3f5f"
            },
            "baxis": {
             "endlinecolor": "#2a3f5f",
             "gridcolor": "white",
             "linecolor": "white",
             "minorgridcolor": "white",
             "startlinecolor": "#2a3f5f"
            },
            "type": "carpet"
           }
          ],
          "choropleth": [
           {
            "colorbar": {
             "outlinewidth": 0,
             "ticks": ""
            },
            "type": "choropleth"
           }
          ],
          "contour": [
           {
            "colorbar": {
             "outlinewidth": 0,
             "ticks": ""
            },
            "colorscale": [
             [
              0,
              "#0d0887"
             ],
             [
              0.1111111111111111,
              "#46039f"
             ],
             [
              0.2222222222222222,
              "#7201a8"
             ],
             [
              0.3333333333333333,
              "#9c179e"
             ],
             [
              0.4444444444444444,
              "#bd3786"
             ],
             [
              0.5555555555555556,
              "#d8576b"
             ],
             [
              0.6666666666666666,
              "#ed7953"
             ],
             [
              0.7777777777777778,
              "#fb9f3a"
             ],
             [
              0.8888888888888888,
              "#fdca26"
             ],
             [
              1,
              "#f0f921"
             ]
            ],
            "type": "contour"
           }
          ],
          "contourcarpet": [
           {
            "colorbar": {
             "outlinewidth": 0,
             "ticks": ""
            },
            "type": "contourcarpet"
           }
          ],
          "heatmap": [
           {
            "colorbar": {
             "outlinewidth": 0,
             "ticks": ""
            },
            "colorscale": [
             [
              0,
              "#0d0887"
             ],
             [
              0.1111111111111111,
              "#46039f"
             ],
             [
              0.2222222222222222,
              "#7201a8"
             ],
             [
              0.3333333333333333,
              "#9c179e"
             ],
             [
              0.4444444444444444,
              "#bd3786"
             ],
             [
              0.5555555555555556,
              "#d8576b"
             ],
             [
              0.6666666666666666,
              "#ed7953"
             ],
             [
              0.7777777777777778,
              "#fb9f3a"
             ],
             [
              0.8888888888888888,
              "#fdca26"
             ],
             [
              1,
              "#f0f921"
             ]
            ],
            "type": "heatmap"
           }
          ],
          "heatmapgl": [
           {
            "colorbar": {
             "outlinewidth": 0,
             "ticks": ""
            },
            "colorscale": [
             [
              0,
              "#0d0887"
             ],
             [
              0.1111111111111111,
              "#46039f"
             ],
             [
              0.2222222222222222,
              "#7201a8"
             ],
             [
              0.3333333333333333,
              "#9c179e"
             ],
             [
              0.4444444444444444,
              "#bd3786"
             ],
             [
              0.5555555555555556,
              "#d8576b"
             ],
             [
              0.6666666666666666,
              "#ed7953"
             ],
             [
              0.7777777777777778,
              "#fb9f3a"
             ],
             [
              0.8888888888888888,
              "#fdca26"
             ],
             [
              1,
              "#f0f921"
             ]
            ],
            "type": "heatmapgl"
           }
          ],
          "histogram": [
           {
            "marker": {
             "pattern": {
              "fillmode": "overlay",
              "size": 10,
              "solidity": 0.2
             }
            },
            "type": "histogram"
           }
          ],
          "histogram2d": [
           {
            "colorbar": {
             "outlinewidth": 0,
             "ticks": ""
            },
            "colorscale": [
             [
              0,
              "#0d0887"
             ],
             [
              0.1111111111111111,
              "#46039f"
             ],
             [
              0.2222222222222222,
              "#7201a8"
             ],
             [
              0.3333333333333333,
              "#9c179e"
             ],
             [
              0.4444444444444444,
              "#bd3786"
             ],
             [
              0.5555555555555556,
              "#d8576b"
             ],
             [
              0.6666666666666666,
              "#ed7953"
             ],
             [
              0.7777777777777778,
              "#fb9f3a"
             ],
             [
              0.8888888888888888,
              "#fdca26"
             ],
             [
              1,
              "#f0f921"
             ]
            ],
            "type": "histogram2d"
           }
          ],
          "histogram2dcontour": [
           {
            "colorbar": {
             "outlinewidth": 0,
             "ticks": ""
            },
            "colorscale": [
             [
              0,
              "#0d0887"
             ],
             [
              0.1111111111111111,
              "#46039f"
             ],
             [
              0.2222222222222222,
              "#7201a8"
             ],
             [
              0.3333333333333333,
              "#9c179e"
             ],
             [
              0.4444444444444444,
              "#bd3786"
             ],
             [
              0.5555555555555556,
              "#d8576b"
             ],
             [
              0.6666666666666666,
              "#ed7953"
             ],
             [
              0.7777777777777778,
              "#fb9f3a"
             ],
             [
              0.8888888888888888,
              "#fdca26"
             ],
             [
              1,
              "#f0f921"
             ]
            ],
            "type": "histogram2dcontour"
           }
          ],
          "mesh3d": [
           {
            "colorbar": {
             "outlinewidth": 0,
             "ticks": ""
            },
            "type": "mesh3d"
           }
          ],
          "parcoords": [
           {
            "line": {
             "colorbar": {
              "outlinewidth": 0,
              "ticks": ""
             }
            },
            "type": "parcoords"
           }
          ],
          "pie": [
           {
            "automargin": true,
            "type": "pie"
           }
          ],
          "scatter": [
           {
            "fillpattern": {
             "fillmode": "overlay",
             "size": 10,
             "solidity": 0.2
            },
            "type": "scatter"
           }
          ],
          "scatter3d": [
           {
            "line": {
             "colorbar": {
              "outlinewidth": 0,
              "ticks": ""
             }
            },
            "marker": {
             "colorbar": {
              "outlinewidth": 0,
              "ticks": ""
             }
            },
            "type": "scatter3d"
           }
          ],
          "scattercarpet": [
           {
            "marker": {
             "colorbar": {
              "outlinewidth": 0,
              "ticks": ""
             }
            },
            "type": "scattercarpet"
           }
          ],
          "scattergeo": [
           {
            "marker": {
             "colorbar": {
              "outlinewidth": 0,
              "ticks": ""
             }
            },
            "type": "scattergeo"
           }
          ],
          "scattergl": [
           {
            "marker": {
             "colorbar": {
              "outlinewidth": 0,
              "ticks": ""
             }
            },
            "type": "scattergl"
           }
          ],
          "scattermapbox": [
           {
            "marker": {
             "colorbar": {
              "outlinewidth": 0,
              "ticks": ""
             }
            },
            "type": "scattermapbox"
           }
          ],
          "scatterpolar": [
           {
            "marker": {
             "colorbar": {
              "outlinewidth": 0,
              "ticks": ""
             }
            },
            "type": "scatterpolar"
           }
          ],
          "scatterpolargl": [
           {
            "marker": {
             "colorbar": {
              "outlinewidth": 0,
              "ticks": ""
             }
            },
            "type": "scatterpolargl"
           }
          ],
          "scatterternary": [
           {
            "marker": {
             "colorbar": {
              "outlinewidth": 0,
              "ticks": ""
             }
            },
            "type": "scatterternary"
           }
          ],
          "surface": [
           {
            "colorbar": {
             "outlinewidth": 0,
             "ticks": ""
            },
            "colorscale": [
             [
              0,
              "#0d0887"
             ],
             [
              0.1111111111111111,
              "#46039f"
             ],
             [
              0.2222222222222222,
              "#7201a8"
             ],
             [
              0.3333333333333333,
              "#9c179e"
             ],
             [
              0.4444444444444444,
              "#bd3786"
             ],
             [
              0.5555555555555556,
              "#d8576b"
             ],
             [
              0.6666666666666666,
              "#ed7953"
             ],
             [
              0.7777777777777778,
              "#fb9f3a"
             ],
             [
              0.8888888888888888,
              "#fdca26"
             ],
             [
              1,
              "#f0f921"
             ]
            ],
            "type": "surface"
           }
          ],
          "table": [
           {
            "cells": {
             "fill": {
              "color": "#EBF0F8"
             },
             "line": {
              "color": "white"
             }
            },
            "header": {
             "fill": {
              "color": "#C8D4E3"
             },
             "line": {
              "color": "white"
             }
            },
            "type": "table"
           }
          ]
         },
         "layout": {
          "annotationdefaults": {
           "arrowcolor": "#2a3f5f",
           "arrowhead": 0,
           "arrowwidth": 1
          },
          "autotypenumbers": "strict",
          "coloraxis": {
           "colorbar": {
            "outlinewidth": 0,
            "ticks": ""
           }
          },
          "colorscale": {
           "diverging": [
            [
             0,
             "#8e0152"
            ],
            [
             0.1,
             "#c51b7d"
            ],
            [
             0.2,
             "#de77ae"
            ],
            [
             0.3,
             "#f1b6da"
            ],
            [
             0.4,
             "#fde0ef"
            ],
            [
             0.5,
             "#f7f7f7"
            ],
            [
             0.6,
             "#e6f5d0"
            ],
            [
             0.7,
             "#b8e186"
            ],
            [
             0.8,
             "#7fbc41"
            ],
            [
             0.9,
             "#4d9221"
            ],
            [
             1,
             "#276419"
            ]
           ],
           "sequential": [
            [
             0,
             "#0d0887"
            ],
            [
             0.1111111111111111,
             "#46039f"
            ],
            [
             0.2222222222222222,
             "#7201a8"
            ],
            [
             0.3333333333333333,
             "#9c179e"
            ],
            [
             0.4444444444444444,
             "#bd3786"
            ],
            [
             0.5555555555555556,
             "#d8576b"
            ],
            [
             0.6666666666666666,
             "#ed7953"
            ],
            [
             0.7777777777777778,
             "#fb9f3a"
            ],
            [
             0.8888888888888888,
             "#fdca26"
            ],
            [
             1,
             "#f0f921"
            ]
           ],
           "sequentialminus": [
            [
             0,
             "#0d0887"
            ],
            [
             0.1111111111111111,
             "#46039f"
            ],
            [
             0.2222222222222222,
             "#7201a8"
            ],
            [
             0.3333333333333333,
             "#9c179e"
            ],
            [
             0.4444444444444444,
             "#bd3786"
            ],
            [
             0.5555555555555556,
             "#d8576b"
            ],
            [
             0.6666666666666666,
             "#ed7953"
            ],
            [
             0.7777777777777778,
             "#fb9f3a"
            ],
            [
             0.8888888888888888,
             "#fdca26"
            ],
            [
             1,
             "#f0f921"
            ]
           ]
          },
          "colorway": [
           "#636efa",
           "#EF553B",
           "#00cc96",
           "#ab63fa",
           "#FFA15A",
           "#19d3f3",
           "#FF6692",
           "#B6E880",
           "#FF97FF",
           "#FECB52"
          ],
          "font": {
           "color": "#2a3f5f"
          },
          "geo": {
           "bgcolor": "white",
           "lakecolor": "white",
           "landcolor": "#E5ECF6",
           "showlakes": true,
           "showland": true,
           "subunitcolor": "white"
          },
          "hoverlabel": {
           "align": "left"
          },
          "hovermode": "closest",
          "mapbox": {
           "style": "light"
          },
          "paper_bgcolor": "white",
          "plot_bgcolor": "#E5ECF6",
          "polar": {
           "angularaxis": {
            "gridcolor": "white",
            "linecolor": "white",
            "ticks": ""
           },
           "bgcolor": "#E5ECF6",
           "radialaxis": {
            "gridcolor": "white",
            "linecolor": "white",
            "ticks": ""
           }
          },
          "scene": {
           "xaxis": {
            "backgroundcolor": "#E5ECF6",
            "gridcolor": "white",
            "gridwidth": 2,
            "linecolor": "white",
            "showbackground": true,
            "ticks": "",
            "zerolinecolor": "white"
           },
           "yaxis": {
            "backgroundcolor": "#E5ECF6",
            "gridcolor": "white",
            "gridwidth": 2,
            "linecolor": "white",
            "showbackground": true,
            "ticks": "",
            "zerolinecolor": "white"
           },
           "zaxis": {
            "backgroundcolor": "#E5ECF6",
            "gridcolor": "white",
            "gridwidth": 2,
            "linecolor": "white",
            "showbackground": true,
            "ticks": "",
            "zerolinecolor": "white"
           }
          },
          "shapedefaults": {
           "line": {
            "color": "#2a3f5f"
           }
          },
          "ternary": {
           "aaxis": {
            "gridcolor": "white",
            "linecolor": "white",
            "ticks": ""
           },
           "baxis": {
            "gridcolor": "white",
            "linecolor": "white",
            "ticks": ""
           },
           "bgcolor": "#E5ECF6",
           "caxis": {
            "gridcolor": "white",
            "linecolor": "white",
            "ticks": ""
           }
          },
          "title": {
           "x": 0.05
          },
          "xaxis": {
           "automargin": true,
           "gridcolor": "white",
           "linecolor": "white",
           "ticks": "",
           "title": {
            "standoff": 15
           },
           "zerolinecolor": "white",
           "zerolinewidth": 2
          },
          "yaxis": {
           "automargin": true,
           "gridcolor": "white",
           "linecolor": "white",
           "ticks": "",
           "title": {
            "standoff": 15
           },
           "zerolinecolor": "white",
           "zerolinewidth": 2
          }
         }
        }
       }
      },
      "text/html": [
       "<div>                            <div id=\"b7c53a0b-3dcb-41fd-8777-e6e19271cc32\" class=\"plotly-graph-div\" style=\"height:525px; width:100%;\"></div>            <script type=\"text/javascript\">                require([\"plotly\"], function(Plotly) {                    window.PLOTLYENV=window.PLOTLYENV || {};                                    if (document.getElementById(\"b7c53a0b-3dcb-41fd-8777-e6e19271cc32\")) {                    Plotly.newPlot(                        \"b7c53a0b-3dcb-41fd-8777-e6e19271cc32\",                        [{\"mode\":\"lines\",\"name\":\"Actual\",\"x\":[\"2017-01-01T00:00:00\",\"2017-03-01T00:00:00\",\"2017-04-01T00:00:00\",\"2017-07-01T00:00:00\",\"2017-08-01T00:00:00\",\"2017-09-01T00:00:00\",\"2017-10-01T00:00:00\",\"2017-11-01T00:00:00\",\"2017-12-01T00:00:00\",\"2018-01-01T00:00:00\",\"2018-03-01T00:00:00\",\"2018-05-01T00:00:00\",\"2018-06-01T00:00:00\",\"2018-07-01T00:00:00\",\"2018-10-01T00:00:00\",\"2018-12-01T00:00:00\",\"2019-01-01T00:00:00\",\"2019-02-01T00:00:00\",\"2019-03-01T00:00:00\",\"2019-04-01T00:00:00\",\"2019-05-01T00:00:00\",\"2019-06-01T00:00:00\",\"2019-07-01T00:00:00\",\"2019-08-01T00:00:00\",\"2019-09-01T00:00:00\",\"2019-10-01T00:00:00\",\"2019-11-01T00:00:00\",\"2019-12-01T00:00:00\",\"2020-01-01T00:00:00\",\"2020-02-01T00:00:00\",\"2020-03-01T00:00:00\",\"2020-04-01T00:00:00\",\"2020-05-01T00:00:00\",\"2020-06-01T00:00:00\",\"2020-07-01T00:00:00\",\"2020-08-01T00:00:00\",\"2020-09-01T00:00:00\",\"2020-10-01T00:00:00\",\"2020-11-01T00:00:00\",\"2020-12-01T00:00:00\",\"2021-01-01T00:00:00\",\"2021-02-01T00:00:00\",\"2021-03-01T00:00:00\",\"2021-04-01T00:00:00\",\"2021-05-01T00:00:00\",\"2021-06-01T00:00:00\",\"2021-07-01T00:00:00\",\"2021-08-01T00:00:00\",\"2021-09-01T00:00:00\",\"2021-10-01T00:00:00\",\"2021-11-01T00:00:00\",\"2021-12-01T00:00:00\"],\"y\":[1252216.069,3008748.231,489400.0,1459550.0,2140161.0,2588701.0,4721966.0,2485377.91,4441429.73,393370.0,195814.373,840000.0,2417100.0,706988.9534,5983.2457,310025.5779,312294.4419,164.6824,279.4484,1066006.054,5704119.0,648015.0,1746765.0,210904.98,2079754.12,6105136.467,1738547.904,268344.412,1482269.149,5961228.065,1493641.251,750000.0,266664.6069,519.880967,447343.6219,280547.4148,-38490.48896,371236.9143,1669130.699,597540.8849,433407.2044,810515.248,622656.7189,67416.47699,541788.7877,168359.7498,1186474.869,-30155.84982,600915.8156,1200354.073,5210603.237,6308381.001],\"type\":\"scatter\"},{\"mode\":\"lines\",\"name\":\"Predict\",\"x\":[\"2022-01-01T00:00:00\",\"2022-02-01T00:00:00\",\"2022-03-01T00:00:00\",\"2022-04-01T00:00:00\",\"2022-05-01T00:00:00\",\"2022-06-01T00:00:00\",\"2022-07-01T00:00:00\",\"2022-08-01T00:00:00\",\"2022-09-01T00:00:00\",\"2022-10-01T00:00:00\",\"2022-11-01T00:00:00\"],\"y\":[1600723.0,1676280.25,1731051.75,1805153.25,1861231.75,1867370.625,1865330.125,1773566.375,1750111.75,1732481.75,1657504.25,1545958.125,1369040.5,1315591.0,1248056.5,1228846.375,1306001.375,1426417.875,1548755.625,1622733.25,1615572.25,1568085.0,1432411.125,1322250.25,1244924.5,1167705.75,1168275.75,1174418.125,1189694.875,1205916.625,1190481.25,1172845.25,1157522.625,1169055.125,1162030.125,1115701.25,1060862.0,942575.6875,803288.1875,688755.9375,603715.6875,528142.5,549172.3125,666136.875,787202.1875,897590.9375,1016530.5,1140623.75,1225736.25,1321518.125,1443099.125,1543841.125,1611491.375,1687159.125,1741516.625,1814129.25,1866639.375,1870311.875],\"type\":\"scatter\"}],                        {\"template\":{\"data\":{\"histogram2dcontour\":[{\"type\":\"histogram2dcontour\",\"colorbar\":{\"outlinewidth\":0,\"ticks\":\"\"},\"colorscale\":[[0.0,\"#0d0887\"],[0.1111111111111111,\"#46039f\"],[0.2222222222222222,\"#7201a8\"],[0.3333333333333333,\"#9c179e\"],[0.4444444444444444,\"#bd3786\"],[0.5555555555555556,\"#d8576b\"],[0.6666666666666666,\"#ed7953\"],[0.7777777777777778,\"#fb9f3a\"],[0.8888888888888888,\"#fdca26\"],[1.0,\"#f0f921\"]]}],\"choropleth\":[{\"type\":\"choropleth\",\"colorbar\":{\"outlinewidth\":0,\"ticks\":\"\"}}],\"histogram2d\":[{\"type\":\"histogram2d\",\"colorbar\":{\"outlinewidth\":0,\"ticks\":\"\"},\"colorscale\":[[0.0,\"#0d0887\"],[0.1111111111111111,\"#46039f\"],[0.2222222222222222,\"#7201a8\"],[0.3333333333333333,\"#9c179e\"],[0.4444444444444444,\"#bd3786\"],[0.5555555555555556,\"#d8576b\"],[0.6666666666666666,\"#ed7953\"],[0.7777777777777778,\"#fb9f3a\"],[0.8888888888888888,\"#fdca26\"],[1.0,\"#f0f921\"]]}],\"heatmap\":[{\"type\":\"heatmap\",\"colorbar\":{\"outlinewidth\":0,\"ticks\":\"\"},\"colorscale\":[[0.0,\"#0d0887\"],[0.1111111111111111,\"#46039f\"],[0.2222222222222222,\"#7201a8\"],[0.3333333333333333,\"#9c179e\"],[0.4444444444444444,\"#bd3786\"],[0.5555555555555556,\"#d8576b\"],[0.6666666666666666,\"#ed7953\"],[0.7777777777777778,\"#fb9f3a\"],[0.8888888888888888,\"#fdca26\"],[1.0,\"#f0f921\"]]}],\"heatmapgl\":[{\"type\":\"heatmapgl\",\"colorbar\":{\"outlinewidth\":0,\"ticks\":\"\"},\"colorscale\":[[0.0,\"#0d0887\"],[0.1111111111111111,\"#46039f\"],[0.2222222222222222,\"#7201a8\"],[0.3333333333333333,\"#9c179e\"],[0.4444444444444444,\"#bd3786\"],[0.5555555555555556,\"#d8576b\"],[0.6666666666666666,\"#ed7953\"],[0.7777777777777778,\"#fb9f3a\"],[0.8888888888888888,\"#fdca26\"],[1.0,\"#f0f921\"]]}],\"contourcarpet\":[{\"type\":\"contourcarpet\",\"colorbar\":{\"outlinewidth\":0,\"ticks\":\"\"}}],\"contour\":[{\"type\":\"contour\",\"colorbar\":{\"outlinewidth\":0,\"ticks\":\"\"},\"colorscale\":[[0.0,\"#0d0887\"],[0.1111111111111111,\"#46039f\"],[0.2222222222222222,\"#7201a8\"],[0.3333333333333333,\"#9c179e\"],[0.4444444444444444,\"#bd3786\"],[0.5555555555555556,\"#d8576b\"],[0.6666666666666666,\"#ed7953\"],[0.7777777777777778,\"#fb9f3a\"],[0.8888888888888888,\"#fdca26\"],[1.0,\"#f0f921\"]]}],\"surface\":[{\"type\":\"surface\",\"colorbar\":{\"outlinewidth\":0,\"ticks\":\"\"},\"colorscale\":[[0.0,\"#0d0887\"],[0.1111111111111111,\"#46039f\"],[0.2222222222222222,\"#7201a8\"],[0.3333333333333333,\"#9c179e\"],[0.4444444444444444,\"#bd3786\"],[0.5555555555555556,\"#d8576b\"],[0.6666666666666666,\"#ed7953\"],[0.7777777777777778,\"#fb9f3a\"],[0.8888888888888888,\"#fdca26\"],[1.0,\"#f0f921\"]]}],\"mesh3d\":[{\"type\":\"mesh3d\",\"colorbar\":{\"outlinewidth\":0,\"ticks\":\"\"}}],\"scatter\":[{\"fillpattern\":{\"fillmode\":\"overlay\",\"size\":10,\"solidity\":0.2},\"type\":\"scatter\"}],\"parcoords\":[{\"type\":\"parcoords\",\"line\":{\"colorbar\":{\"outlinewidth\":0,\"ticks\":\"\"}}}],\"scatterpolargl\":[{\"type\":\"scatterpolargl\",\"marker\":{\"colorbar\":{\"outlinewidth\":0,\"ticks\":\"\"}}}],\"bar\":[{\"error_x\":{\"color\":\"#2a3f5f\"},\"error_y\":{\"color\":\"#2a3f5f\"},\"marker\":{\"line\":{\"color\":\"#E5ECF6\",\"width\":0.5},\"pattern\":{\"fillmode\":\"overlay\",\"size\":10,\"solidity\":0.2}},\"type\":\"bar\"}],\"scattergeo\":[{\"type\":\"scattergeo\",\"marker\":{\"colorbar\":{\"outlinewidth\":0,\"ticks\":\"\"}}}],\"scatterpolar\":[{\"type\":\"scatterpolar\",\"marker\":{\"colorbar\":{\"outlinewidth\":0,\"ticks\":\"\"}}}],\"histogram\":[{\"marker\":{\"pattern\":{\"fillmode\":\"overlay\",\"size\":10,\"solidity\":0.2}},\"type\":\"histogram\"}],\"scattergl\":[{\"type\":\"scattergl\",\"marker\":{\"colorbar\":{\"outlinewidth\":0,\"ticks\":\"\"}}}],\"scatter3d\":[{\"type\":\"scatter3d\",\"line\":{\"colorbar\":{\"outlinewidth\":0,\"ticks\":\"\"}},\"marker\":{\"colorbar\":{\"outlinewidth\":0,\"ticks\":\"\"}}}],\"scattermapbox\":[{\"type\":\"scattermapbox\",\"marker\":{\"colorbar\":{\"outlinewidth\":0,\"ticks\":\"\"}}}],\"scatterternary\":[{\"type\":\"scatterternary\",\"marker\":{\"colorbar\":{\"outlinewidth\":0,\"ticks\":\"\"}}}],\"scattercarpet\":[{\"type\":\"scattercarpet\",\"marker\":{\"colorbar\":{\"outlinewidth\":0,\"ticks\":\"\"}}}],\"carpet\":[{\"aaxis\":{\"endlinecolor\":\"#2a3f5f\",\"gridcolor\":\"white\",\"linecolor\":\"white\",\"minorgridcolor\":\"white\",\"startlinecolor\":\"#2a3f5f\"},\"baxis\":{\"endlinecolor\":\"#2a3f5f\",\"gridcolor\":\"white\",\"linecolor\":\"white\",\"minorgridcolor\":\"white\",\"startlinecolor\":\"#2a3f5f\"},\"type\":\"carpet\"}],\"table\":[{\"cells\":{\"fill\":{\"color\":\"#EBF0F8\"},\"line\":{\"color\":\"white\"}},\"header\":{\"fill\":{\"color\":\"#C8D4E3\"},\"line\":{\"color\":\"white\"}},\"type\":\"table\"}],\"barpolar\":[{\"marker\":{\"line\":{\"color\":\"#E5ECF6\",\"width\":0.5},\"pattern\":{\"fillmode\":\"overlay\",\"size\":10,\"solidity\":0.2}},\"type\":\"barpolar\"}],\"pie\":[{\"automargin\":true,\"type\":\"pie\"}]},\"layout\":{\"autotypenumbers\":\"strict\",\"colorway\":[\"#636efa\",\"#EF553B\",\"#00cc96\",\"#ab63fa\",\"#FFA15A\",\"#19d3f3\",\"#FF6692\",\"#B6E880\",\"#FF97FF\",\"#FECB52\"],\"font\":{\"color\":\"#2a3f5f\"},\"hovermode\":\"closest\",\"hoverlabel\":{\"align\":\"left\"},\"paper_bgcolor\":\"white\",\"plot_bgcolor\":\"#E5ECF6\",\"polar\":{\"bgcolor\":\"#E5ECF6\",\"angularaxis\":{\"gridcolor\":\"white\",\"linecolor\":\"white\",\"ticks\":\"\"},\"radialaxis\":{\"gridcolor\":\"white\",\"linecolor\":\"white\",\"ticks\":\"\"}},\"ternary\":{\"bgcolor\":\"#E5ECF6\",\"aaxis\":{\"gridcolor\":\"white\",\"linecolor\":\"white\",\"ticks\":\"\"},\"baxis\":{\"gridcolor\":\"white\",\"linecolor\":\"white\",\"ticks\":\"\"},\"caxis\":{\"gridcolor\":\"white\",\"linecolor\":\"white\",\"ticks\":\"\"}},\"coloraxis\":{\"colorbar\":{\"outlinewidth\":0,\"ticks\":\"\"}},\"colorscale\":{\"sequential\":[[0.0,\"#0d0887\"],[0.1111111111111111,\"#46039f\"],[0.2222222222222222,\"#7201a8\"],[0.3333333333333333,\"#9c179e\"],[0.4444444444444444,\"#bd3786\"],[0.5555555555555556,\"#d8576b\"],[0.6666666666666666,\"#ed7953\"],[0.7777777777777778,\"#fb9f3a\"],[0.8888888888888888,\"#fdca26\"],[1.0,\"#f0f921\"]],\"sequentialminus\":[[0.0,\"#0d0887\"],[0.1111111111111111,\"#46039f\"],[0.2222222222222222,\"#7201a8\"],[0.3333333333333333,\"#9c179e\"],[0.4444444444444444,\"#bd3786\"],[0.5555555555555556,\"#d8576b\"],[0.6666666666666666,\"#ed7953\"],[0.7777777777777778,\"#fb9f3a\"],[0.8888888888888888,\"#fdca26\"],[1.0,\"#f0f921\"]],\"diverging\":[[0,\"#8e0152\"],[0.1,\"#c51b7d\"],[0.2,\"#de77ae\"],[0.3,\"#f1b6da\"],[0.4,\"#fde0ef\"],[0.5,\"#f7f7f7\"],[0.6,\"#e6f5d0\"],[0.7,\"#b8e186\"],[0.8,\"#7fbc41\"],[0.9,\"#4d9221\"],[1,\"#276419\"]]},\"xaxis\":{\"gridcolor\":\"white\",\"linecolor\":\"white\",\"ticks\":\"\",\"title\":{\"standoff\":15},\"zerolinecolor\":\"white\",\"automargin\":true,\"zerolinewidth\":2},\"yaxis\":{\"gridcolor\":\"white\",\"linecolor\":\"white\",\"ticks\":\"\",\"title\":{\"standoff\":15},\"zerolinecolor\":\"white\",\"automargin\":true,\"zerolinewidth\":2},\"scene\":{\"xaxis\":{\"backgroundcolor\":\"#E5ECF6\",\"gridcolor\":\"white\",\"linecolor\":\"white\",\"showbackground\":true,\"ticks\":\"\",\"zerolinecolor\":\"white\",\"gridwidth\":2},\"yaxis\":{\"backgroundcolor\":\"#E5ECF6\",\"gridcolor\":\"white\",\"linecolor\":\"white\",\"showbackground\":true,\"ticks\":\"\",\"zerolinecolor\":\"white\",\"gridwidth\":2},\"zaxis\":{\"backgroundcolor\":\"#E5ECF6\",\"gridcolor\":\"white\",\"linecolor\":\"white\",\"showbackground\":true,\"ticks\":\"\",\"zerolinecolor\":\"white\",\"gridwidth\":2}},\"shapedefaults\":{\"line\":{\"color\":\"#2a3f5f\"}},\"annotationdefaults\":{\"arrowcolor\":\"#2a3f5f\",\"arrowhead\":0,\"arrowwidth\":1},\"geo\":{\"bgcolor\":\"white\",\"landcolor\":\"#E5ECF6\",\"subunitcolor\":\"white\",\"showland\":true,\"showlakes\":true,\"lakecolor\":\"white\"},\"title\":{\"x\":0.05},\"mapbox\":{\"style\":\"light\"}}}},                        {\"responsive\": true}                    ).then(function(){\n",
       "                            \n",
       "var gd = document.getElementById('b7c53a0b-3dcb-41fd-8777-e6e19271cc32');\n",
       "var x = new MutationObserver(function (mutations, observer) {{\n",
       "        var display = window.getComputedStyle(gd).display;\n",
       "        if (!display || display === 'none') {{\n",
       "            console.log([gd, 'removed!']);\n",
       "            Plotly.purge(gd);\n",
       "            observer.disconnect();\n",
       "        }}\n",
       "}});\n",
       "\n",
       "// Listen for the removal of the full notebook cells\n",
       "var notebookContainer = gd.closest('#notebook-container');\n",
       "if (notebookContainer) {{\n",
       "    x.observe(notebookContainer, {childList: true});\n",
       "}}\n",
       "\n",
       "// Listen for the clearing of the current output cell\n",
       "var outputEl = gd.closest('.output');\n",
       "if (outputEl) {{\n",
       "    x.observe(outputEl, {childList: true});\n",
       "}}\n",
       "\n",
       "                        })                };                });            </script>        </div>"
      ]
     },
     "metadata": {},
     "output_type": "display_data"
    }
   ],
   "source": [
    "import plotly.express as px\n",
    "import plotly.graph_objects as go\n",
    "\n",
    "lstm_forecast_index=pd.date_range(start='2022-01-01',periods=11,freq='MS')\n",
    "\n",
    "actual = go.Scatter(\n",
    "    x = df.index,\n",
    "    y =df.revenue,\n",
    "    mode = 'lines',\n",
    "    name = 'Actual'\n",
    ")\n",
    "\n",
    "predicted = go.Scatter(\n",
    "    x = lstm_forecast_index,\n",
    "    y = y_pred_future_6_days,\n",
    "    mode = 'lines',\n",
    "    name = 'Predict'\n",
    ")\n",
    "\n",
    "fig = go.Figure(data=[actual,predicted])\n",
    "fig.show()"
   ]
  },
  {
   "cell_type": "code",
   "execution_count": null,
   "id": "41430a6b",
   "metadata": {},
   "outputs": [],
   "source": []
  }
 ],
 "metadata": {
  "kernelspec": {
   "display_name": "Python 3",
   "language": "python",
   "name": "python3"
  },
  "language_info": {
   "codemirror_mode": {
    "name": "ipython",
    "version": 3
   },
   "file_extension": ".py",
   "mimetype": "text/x-python",
   "name": "python",
   "nbconvert_exporter": "python",
   "pygments_lexer": "ipython3",
   "version": "3.8.8"
  }
 },
 "nbformat": 4,
 "nbformat_minor": 5
}
