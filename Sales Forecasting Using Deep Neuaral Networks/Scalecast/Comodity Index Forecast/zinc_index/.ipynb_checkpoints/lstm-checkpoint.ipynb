{
 "cells": [
  {
   "cell_type": "code",
   "execution_count": 1,
   "id": "1e64421e",
   "metadata": {},
   "outputs": [],
   "source": [
    "import pandas as pd\n",
    "import numpy as np\n",
    "import pickle\n",
    "import seaborn as sns\n",
    "import matplotlib.pyplot as plt\n",
    "from scalecast.Forecaster import Forecaster\n",
    "\n",
    "pd.options.display.float_format = '{:.2f}'.format\n",
    "pd.options.display.max_rows = 1000"
   ]
  },
  {
   "cell_type": "code",
   "execution_count": 2,
   "id": "ca387d2b",
   "metadata": {},
   "outputs": [
    {
     "data": {
      "text/html": [
       "<div>\n",
       "<style scoped>\n",
       "    .dataframe tbody tr th:only-of-type {\n",
       "        vertical-align: middle;\n",
       "    }\n",
       "\n",
       "    .dataframe tbody tr th {\n",
       "        vertical-align: top;\n",
       "    }\n",
       "\n",
       "    .dataframe thead th {\n",
       "        text-align: right;\n",
       "    }\n",
       "</style>\n",
       "<table border=\"1\" class=\"dataframe\">\n",
       "  <thead>\n",
       "    <tr style=\"text-align: right;\">\n",
       "      <th></th>\n",
       "      <th>business_area_name</th>\n",
       "      <th>region_name</th>\n",
       "      <th>date</th>\n",
       "      <th>sales</th>\n",
       "    </tr>\n",
       "  </thead>\n",
       "  <tbody>\n",
       "    <tr>\n",
       "      <th>48</th>\n",
       "      <td>A00 - Equipment</td>\n",
       "      <td>China</td>\n",
       "      <td>2017-01-01</td>\n",
       "      <td>373875.47</td>\n",
       "    </tr>\n",
       "    <tr>\n",
       "      <th>91</th>\n",
       "      <td>A00 - Equipment</td>\n",
       "      <td>China</td>\n",
       "      <td>2017-02-01</td>\n",
       "      <td>3034.86</td>\n",
       "    </tr>\n",
       "    <tr>\n",
       "      <th>104</th>\n",
       "      <td>A00 - Equipment</td>\n",
       "      <td>China</td>\n",
       "      <td>2017-03-01</td>\n",
       "      <td>551794.05</td>\n",
       "    </tr>\n",
       "    <tr>\n",
       "      <th>123</th>\n",
       "      <td>A00 - Equipment</td>\n",
       "      <td>China</td>\n",
       "      <td>2017-04-01</td>\n",
       "      <td>34178.10</td>\n",
       "    </tr>\n",
       "    <tr>\n",
       "      <th>153</th>\n",
       "      <td>A00 - Equipment</td>\n",
       "      <td>China</td>\n",
       "      <td>2017-05-01</td>\n",
       "      <td>2912.74</td>\n",
       "    </tr>\n",
       "  </tbody>\n",
       "</table>\n",
       "</div>"
      ],
      "text/plain": [
       "    business_area_name region_name       date     sales\n",
       "48     A00 - Equipment       China 2017-01-01 373875.47\n",
       "91     A00 - Equipment       China 2017-02-01   3034.86\n",
       "104    A00 - Equipment       China 2017-03-01 551794.05\n",
       "123    A00 - Equipment       China 2017-04-01  34178.10\n",
       "153    A00 - Equipment       China 2017-05-01   2912.74"
      ]
     },
     "metadata": {},
     "output_type": "display_data"
    },
    {
     "data": {
      "text/html": [
       "<div>\n",
       "<style scoped>\n",
       "    .dataframe tbody tr th:only-of-type {\n",
       "        vertical-align: middle;\n",
       "    }\n",
       "\n",
       "    .dataframe tbody tr th {\n",
       "        vertical-align: top;\n",
       "    }\n",
       "\n",
       "    .dataframe thead th {\n",
       "        text-align: right;\n",
       "    }\n",
       "</style>\n",
       "<table border=\"1\" class=\"dataframe\">\n",
       "  <thead>\n",
       "    <tr style=\"text-align: right;\">\n",
       "      <th></th>\n",
       "      <th>date</th>\n",
       "      <th>sales</th>\n",
       "    </tr>\n",
       "  </thead>\n",
       "  <tbody>\n",
       "    <tr>\n",
       "      <th>0</th>\n",
       "      <td>2017-01-01</td>\n",
       "      <td>373875.47</td>\n",
       "    </tr>\n",
       "    <tr>\n",
       "      <th>1</th>\n",
       "      <td>2017-02-01</td>\n",
       "      <td>3034.86</td>\n",
       "    </tr>\n",
       "    <tr>\n",
       "      <th>2</th>\n",
       "      <td>2017-03-01</td>\n",
       "      <td>551794.05</td>\n",
       "    </tr>\n",
       "    <tr>\n",
       "      <th>3</th>\n",
       "      <td>2017-04-01</td>\n",
       "      <td>34178.10</td>\n",
       "    </tr>\n",
       "    <tr>\n",
       "      <th>4</th>\n",
       "      <td>2017-05-01</td>\n",
       "      <td>2912.74</td>\n",
       "    </tr>\n",
       "  </tbody>\n",
       "</table>\n",
       "</div>"
      ],
      "text/plain": [
       "        date     sales\n",
       "0 2017-01-01 373875.47\n",
       "1 2017-02-01   3034.86\n",
       "2 2017-03-01 551794.05\n",
       "3 2017-04-01  34178.10\n",
       "4 2017-05-01   2912.74"
      ]
     },
     "execution_count": 2,
     "metadata": {},
     "output_type": "execute_result"
    }
   ],
   "source": [
    "data = pd.read_csv('commodity_index.csv',parse_dates=['ts_month'])\n",
    "data = data[(data.region_name==\"China\") & (data.business_area_name==\"A00 - Equipment\")]\n",
    "data.rename(columns={\"ts_month\":\"date\",\"index\": \"copper_index\"}, inplace=True)\n",
    "display(data.head())\n",
    "\n",
    "data = data[['date','sales']]\n",
    "data.reset_index(drop=True, inplace=True)\n",
    "data.head()"
   ]
  },
  {
   "cell_type": "code",
   "execution_count": 3,
   "id": "ef7792c5",
   "metadata": {},
   "outputs": [
    {
     "data": {
      "text/plain": [
       "(59, 2)"
      ]
     },
     "execution_count": 3,
     "metadata": {},
     "output_type": "execute_result"
    }
   ],
   "source": [
    "data.shape"
   ]
  },
  {
   "cell_type": "code",
   "execution_count": 4,
   "id": "988029c2",
   "metadata": {},
   "outputs": [
    {
     "data": {
      "text/plain": [
       "<AxesSubplot:xlabel='Date', ylabel='Values'>"
      ]
     },
     "execution_count": 4,
     "metadata": {},
     "output_type": "execute_result"
    },
    {
     "data": {
      "image/png": "[encoded data removed]",
      "text/plain": [
       "<Figure size 432x288 with 1 Axes>"
      ]
     },
     "metadata": {
      "needs_background": "light"
     },
     "output_type": "display_data"
    }
   ],
   "source": [
    "f = Forecaster(y=data['sales'],current_dates=data['date'])\n",
    "f.plot()"
   ]
  },
  {
   "cell_type": "code",
   "execution_count": 5,
   "id": "bc386d5b",
   "metadata": {},
   "outputs": [
    {
     "data": {
      "image/png": "[encoded data removed]",
      "text/plain": [
       "<Figure size 432x288 with 1 Axes>"
      ]
     },
     "metadata": {
      "needs_background": "light"
     },
     "output_type": "display_data"
    }
   ],
   "source": [
    "f.plot_pacf(lags=24)\n",
    "plt.show()"
   ]
  },
  {
   "cell_type": "code",
   "execution_count": 6,
   "id": "0cc215ee",
   "metadata": {},
   "outputs": [],
   "source": [
    "f.set_test_length(12)\n",
    "f.generate_future_dates(12)\n",
    "f.set_estimator('lstm')"
   ]
  },
  {
   "cell_type": "code",
   "execution_count": 8,
   "id": "f9a3845f",
   "metadata": {
    "scrolled": false
   },
   "outputs": [
    {
     "name": "stdout",
     "output_type": "stream",
     "text": [
      "Epoch 1/15\n",
      "1/1 [==============================] - 7s 7s/step - loss: 0.1727 - val_loss: 0.2608\n",
      "Epoch 2/15\n",
      "1/1 [==============================] - 0s 47ms/step - loss: 0.1645 - val_loss: 0.2584\n",
      "Epoch 3/15\n",
      "1/1 [==============================] - 0s 42ms/step - loss: 0.1611 - val_loss: 0.2571\n",
      "Epoch 4/15\n",
      "1/1 [==============================] - 0s 45ms/step - loss: 0.1597 - val_loss: 0.2572\n",
      "Epoch 5/15\n",
      "1/1 [==============================] - 0s 42ms/step - loss: 0.1597 - val_loss: 0.2592\n",
      "Epoch 6/15\n",
      "1/1 [==============================] - 0s 42ms/step - loss: 0.1599 - val_loss: 0.2618\n",
      "Epoch 7/15\n",
      "1/1 [==============================] - 0s 48ms/step - loss: 0.1602 - val_loss: 0.2634\n",
      "Epoch 8/15\n",
      "1/1 [==============================] - 0s 51ms/step - loss: 0.1601 - val_loss: 0.2650\n",
      "Epoch 9/15\n",
      "1/1 [==============================] - 0s 76ms/step - loss: 0.1599 - val_loss: 0.2662\n",
      "Epoch 10/15\n",
      "1/1 [==============================] - 0s 63ms/step - loss: 0.1597 - val_loss: 0.2664\n",
      "Epoch 11/15\n",
      "1/1 [==============================] - 0s 51ms/step - loss: 0.1596 - val_loss: 0.2661\n",
      "Epoch 12/15\n",
      "1/1 [==============================] - 0s 48ms/step - loss: 0.1595 - val_loss: 0.2654\n",
      "Epoch 13/15\n",
      "1/1 [==============================] - 0s 58ms/step - loss: 0.1593 - val_loss: 0.2646\n",
      "Epoch 14/15\n",
      "1/1 [==============================] - 0s 50ms/step - loss: 0.1594 - val_loss: 0.2637\n",
      "Epoch 15/15\n",
      "1/1 [==============================] - 0s 52ms/step - loss: 0.1590 - val_loss: 0.2631\n",
      "Epoch 1/15\n",
      "1/1 [==============================] - 7s 7s/step - loss: 0.2556 - val_loss: 0.2117\n",
      "Epoch 2/15\n",
      "1/1 [==============================] - 0s 44ms/step - loss: 0.2472 - val_loss: 0.2089\n",
      "Epoch 3/15\n",
      "1/1 [==============================] - 0s 42ms/step - loss: 0.2438 - val_loss: 0.2079\n",
      "Epoch 4/15\n",
      "1/1 [==============================] - 0s 42ms/step - loss: 0.2408 - val_loss: 0.2071\n",
      "Epoch 5/15\n",
      "1/1 [==============================] - 0s 42ms/step - loss: 0.2383 - val_loss: 0.2084\n",
      "Epoch 6/15\n",
      "1/1 [==============================] - 0s 44ms/step - loss: 0.2369 - val_loss: 0.2107\n",
      "Epoch 7/15\n",
      "1/1 [==============================] - 0s 45ms/step - loss: 0.2358 - val_loss: 0.2139\n",
      "Epoch 8/15\n",
      "1/1 [==============================] - 0s 45ms/step - loss: 0.2352 - val_loss: 0.2169\n",
      "Epoch 9/15\n",
      "1/1 [==============================] - 0s 48ms/step - loss: 0.2346 - val_loss: 0.2188\n",
      "Epoch 10/15\n",
      "1/1 [==============================] - 0s 48ms/step - loss: 0.2342 - val_loss: 0.2199\n",
      "Epoch 11/15\n",
      "1/1 [==============================] - 0s 42ms/step - loss: 0.2338 - val_loss: 0.2195\n",
      "Epoch 12/15\n",
      "1/1 [==============================] - 0s 53ms/step - loss: 0.2335 - val_loss: 0.2184\n",
      "Epoch 13/15\n",
      "1/1 [==============================] - 0s 53ms/step - loss: 0.2332 - val_loss: 0.2177\n",
      "Epoch 14/15\n",
      "1/1 [==============================] - 0s 52ms/step - loss: 0.2329 - val_loss: 0.2180\n",
      "Epoch 15/15\n",
      "1/1 [==============================] - 0s 51ms/step - loss: 0.2325 - val_loss: 0.2185\n"
     ]
    },
    {
     "data": {
      "image/png": "[encoded data removed]",
      "text/plain": [
       "<Figure size 432x288 with 1 Axes>"
      ]
     },
     "metadata": {
      "needs_background": "light"
     },
     "output_type": "display_data"
    }
   ],
   "source": [
    "f.manual_forecast(call_me='lstm',\n",
    "                  lags=20,\n",
    "                  batch_size=32,\n",
    "                  epochs=15,\n",
    "                  validation_split=.2,\n",
    "                  shuffle=True,\n",
    "                  activation='tanh',\n",
    "                  optimizer='Adam',\n",
    "                  learning_rate=0.001,\n",
    "                  lstm_layer_sizes=(72,)*4,\n",
    "                  dropout=(0,)*4,\n",
    "                  plot_loss=True)"
   ]
  },
  {
   "cell_type": "code",
   "execution_count": null,
   "id": "c8d19449",
   "metadata": {},
   "outputs": [],
   "source": [
    "f.plot_test_set(ci=True)"
   ]
  },
  {
   "cell_type": "code",
   "execution_count": null,
   "id": "ea0605cb",
   "metadata": {},
   "outputs": [],
   "source": [
    "f.generate_future_dates(12)\n",
    "f.add_time_trend()\n",
    "f.export(to_excel=True,excel_name='results.xlsx')\n",
    "f.plot(ci=True)"
   ]
  },
  {
   "cell_type": "code",
   "execution_count": null,
   "id": "b8da3926",
   "metadata": {},
   "outputs": [],
   "source": [
    "f.export('model_summaries',determine_best_by='LevelTestSetMAPE')[\n",
    "    ['ModelNickname',\n",
    "     'LevelTestSetMAPE',\n",
    "     'LevelTestSetRMSE',\n",
    "     'LevelTestSetR2',\n",
    "     'best_model']\n",
    "]"
   ]
  },
  {
   "cell_type": "code",
   "execution_count": null,
   "id": "6b6696cc",
   "metadata": {},
   "outputs": [],
   "source": [
    "test_2021 = f.export_test_set_preds_with_cis('lstm')\n",
    "display(test_2021.head(12))\n",
    "\n",
    "predicted_2022 = f.export_forecasts_with_cis('lstm')\n",
    "display(predicted_2022.head(12))"
   ]
  },
  {
   "cell_type": "code",
   "execution_count": null,
   "id": "c21ce3a5",
   "metadata": {},
   "outputs": [],
   "source": [
    "Total_2021 = test_2021['Actuals'].sum()\n",
    "Total_2022 = predicted_2022['Forecast'].sum()\n",
    "\n",
    "Yoy_growth = (Total_2022 - Total_2021)/ Total_2021 * 100\n",
    "\n",
    "print(f'Total_2021:{Total_2021}')\n",
    "print(f'Total_2022:{Total_2022}')\n",
    "print(f'YOY (growth):{Yoy_growth}')"
   ]
  },
  {
   "cell_type": "code",
   "execution_count": null,
   "id": "f5462383",
   "metadata": {},
   "outputs": [],
   "source": []
  }
 ],
 "metadata": {
  "kernelspec": {
   "display_name": "Python 3",
   "language": "python",
   "name": "python3"
  },
  "language_info": {
   "codemirror_mode": {
    "name": "ipython",
    "version": 3
   },
   "file_extension": ".py",
   "mimetype": "text/x-python",
   "name": "python",
   "nbconvert_exporter": "python",
   "pygments_lexer": "ipython3",
   "version": "3.8.8"
  }
 },
 "nbformat": 4,
 "nbformat_minor": 5
}
