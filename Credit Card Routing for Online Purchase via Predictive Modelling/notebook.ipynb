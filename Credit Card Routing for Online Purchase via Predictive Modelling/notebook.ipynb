{
 "cells": [
  {
   "cell_type": "markdown",
   "id": "0a33ecf5",
   "metadata": {},
   "source": [
    "<h1>Credit Card Routing for Online Purchase via Predictive Modelling</h1>\n",
    "\n",
    "<h1>1. Introduction</h1>\n",
    "\n",
    "\"Online retail business\" implies a business process in which customers have a plethora of options in searching for, selecting, and purchasing products, information, and services over the internet.\n",
    "\n",
    "Most retailers sell their goods online, and this explains why online retail business is simply a form of electronic commerce that enables consumers to buy goods or services or shop directly from their phones, tabs, laptops, or other internet-connected devices anywhere in the world.\n",
    "\n",
    "<h2>1.1 Methodology</h2>\n",
    "\n",
    "For the case study the cross-industry standard process for data mining or CRISP-DM will be used. The process icludes 6 phases (steps) which include further generic tasks: \n",
    "<ul>\n",
    "<li>Business Understanding</li>\n",
    "<li>Data Understanding</li>\n",
    "<li>Data Preparation</li>\n",
    "<li>Modeling</li>\n",
    "<li>Evaluation</li>\n",
    "<li>Deployment</li>\n",
    "</ul>\n",
    "\n",
    "The generic tasks describe what needs to be done in a phase before moving on to the next one. \n",
    "\n",
    "<img width=\"450\" src=\"https://miro.medium.com/max/640/1*ezhOVnxDcwudVc3eJYe5hQ.jpeg\"/>\n",
    "\n",
    "<h2>1.2 Business Understanding</h2>\n",
    "\n",
    "Over the past decade, more and more payment options have become available for customers to make online payments, making them more convenient than ever. Due to this trend, any business can benefit massively from offering multiple payment options to its customers. This helps in acquiring new customers, as well as retaining current ones. However, maintaining a growing number of payment options can create a lot of extra costs, labor, and security issues. This is where Payment Service Providers (PSPs) can help.\n",
    "\n",
    "PSPs (also called Merchant Service Providers) are third-party companies that help business owners accept a wide range of online payment methods, like online banking, credit cards, debit cards, e-wallets, cash cards, and more. Basically, they make sure your transactions make it from point A to point B, safely and securely.\n",
    "\n",
    "PSPs see to it that transactions are completed — from the start, when a customer enters their details and initiates a payment, to finish, when you receive it.\n",
    "\n",
    "<h3>1.2.1 Problem definition</h3>\n",
    "\n",
    "Every day, businesses face more and more pressure to reduce costs, reduce process times and increase profit. \n",
    "\n",
    "Online credit card payments are performed via so-called payment service providers, referred to as “PSPs”. The current routing logic is manual and rule-based. The company has contracts with four different PSPs and pays transaction fees for every single payment.\n",
    "\n",
    "Over the past year the Online retail have encountered a high failure rate of online credit card payments. The company loses a lot of money due to failed transactions and customers become increasingly unsatisfied with the online shop. \n",
    "\n",
    "<h3>1.2.2 Main Goal And Specific Objective</h3>\n",
    "\n",
    "Business decision-makers, however, hope that with predictive modelling and with your help, a smarter way of routing a PSP to a transaction is possible.\n",
    "\n",
    "1. Analyze the problem root cause. How success rate is changing over time?\n",
    "2. Build a model that increase the payment success rate by finding the best possible PSP for each transaction and at the same time keep the transaction fees low.\n",
    "\n",
    "<h3>1.2.3 Tools</h3>\n",
    "\n",
    "The tools used for the project are: Jupiter Notebook, Python, pandas, NumPy, matplotlib, seaborn, scikit-learn."
   ]
  },
  {
   "cell_type": "markdown",
   "id": "a05c8c40",
   "metadata": {},
   "source": [
    "<h1>2. Data Understanding</h1>\n",
    "\n",
    "The Data understanding phase is where we focus on understanding the data we had to support the Business Understanding and solve the business problem."
   ]
  },
  {
   "cell_type": "markdown",
   "id": "d94feb7f",
   "metadata": {},
   "source": [
    "<h2>2.1 Data Sources</h2>\n",
    "\n",
    "There are two data sources: List of credit card transactions for DACH countries (Germany, Switzerland, Austria) for January and February 2019 \"PSP_Jan_Feb_2019.csv\" and List of payments service providers (PSPs) and service fees \"Service_fees.csv\". \n",
    "\n",
    "The data are collected from online purchasing. "
   ]
  },
  {
   "cell_type": "code",
   "execution_count": 32,
   "id": "5792a622",
   "metadata": {},
   "outputs": [],
   "source": [
    "import pandas as pd\n",
    "transactions = pd.read_csv('datasets/PSP_Jan_Feb_2019.csv')"
   ]
  },
  {
   "cell_type": "markdown",
   "id": "179d31ab",
   "metadata": {},
   "source": [
    "<h2>2.2 Describe data</h2>\n",
    "\n",
    "Now we can see all the general information of the dataset. First we will see the first 5 rows of the dataset. "
   ]
  },
  {
   "cell_type": "code",
   "execution_count": 33,
   "id": "17a1d62d",
   "metadata": {},
   "outputs": [
    {
     "data": {
      "text/html": [
       "<div>\n",
       "<style scoped>\n",
       "    .dataframe tbody tr th:only-of-type {\n",
       "        vertical-align: middle;\n",
       "    }\n",
       "\n",
       "    .dataframe tbody tr th {\n",
       "        vertical-align: top;\n",
       "    }\n",
       "\n",
       "    .dataframe thead th {\n",
       "        text-align: right;\n",
       "    }\n",
       "</style>\n",
       "<table border=\"1\" class=\"dataframe\">\n",
       "  <thead>\n",
       "    <tr style=\"text-align: right;\">\n",
       "      <th></th>\n",
       "      <th>id</th>\n",
       "      <th>tmsp</th>\n",
       "      <th>country</th>\n",
       "      <th>amount</th>\n",
       "      <th>success</th>\n",
       "      <th>PSP</th>\n",
       "      <th>3D_secured</th>\n",
       "      <th>card</th>\n",
       "    </tr>\n",
       "  </thead>\n",
       "  <tbody>\n",
       "    <tr>\n",
       "      <th>0</th>\n",
       "      <td>0</td>\n",
       "      <td>2019-01-01 00:01:11</td>\n",
       "      <td>Germany</td>\n",
       "      <td>89</td>\n",
       "      <td>0</td>\n",
       "      <td>UK_Card</td>\n",
       "      <td>0</td>\n",
       "      <td>Visa</td>\n",
       "    </tr>\n",
       "    <tr>\n",
       "      <th>1</th>\n",
       "      <td>1</td>\n",
       "      <td>2019-01-01 00:01:17</td>\n",
       "      <td>Germany</td>\n",
       "      <td>89</td>\n",
       "      <td>1</td>\n",
       "      <td>UK_Card</td>\n",
       "      <td>0</td>\n",
       "      <td>Visa</td>\n",
       "    </tr>\n",
       "    <tr>\n",
       "      <th>2</th>\n",
       "      <td>2</td>\n",
       "      <td>2019-01-01 00:02:49</td>\n",
       "      <td>Germany</td>\n",
       "      <td>238</td>\n",
       "      <td>0</td>\n",
       "      <td>UK_Card</td>\n",
       "      <td>1</td>\n",
       "      <td>Diners</td>\n",
       "    </tr>\n",
       "    <tr>\n",
       "      <th>3</th>\n",
       "      <td>3</td>\n",
       "      <td>2019-01-01 00:03:13</td>\n",
       "      <td>Germany</td>\n",
       "      <td>238</td>\n",
       "      <td>1</td>\n",
       "      <td>UK_Card</td>\n",
       "      <td>1</td>\n",
       "      <td>Diners</td>\n",
       "    </tr>\n",
       "    <tr>\n",
       "      <th>4</th>\n",
       "      <td>4</td>\n",
       "      <td>2019-01-01 00:04:33</td>\n",
       "      <td>Austria</td>\n",
       "      <td>124</td>\n",
       "      <td>0</td>\n",
       "      <td>Simplecard</td>\n",
       "      <td>0</td>\n",
       "      <td>Diners</td>\n",
       "    </tr>\n",
       "  </tbody>\n",
       "</table>\n",
       "</div>"
      ],
      "text/plain": [
       "   id                 tmsp  country  amount  success         PSP  3D_secured  \\\n",
       "0   0  2019-01-01 00:01:11  Germany      89        0     UK_Card           0   \n",
       "1   1  2019-01-01 00:01:17  Germany      89        1     UK_Card           0   \n",
       "2   2  2019-01-01 00:02:49  Germany     238        0     UK_Card           1   \n",
       "3   3  2019-01-01 00:03:13  Germany     238        1     UK_Card           1   \n",
       "4   4  2019-01-01 00:04:33  Austria     124        0  Simplecard           0   \n",
       "\n",
       "     card  \n",
       "0    Visa  \n",
       "1    Visa  \n",
       "2  Diners  \n",
       "3  Diners  \n",
       "4  Diners  "
      ]
     },
     "execution_count": 33,
     "metadata": {},
     "output_type": "execute_result"
    }
   ],
   "source": [
    "transactions.head()"
   ]
  },
  {
   "cell_type": "code",
   "execution_count": 34,
   "id": "5eb4e5e2",
   "metadata": {},
   "outputs": [
    {
     "name": "stdout",
     "output_type": "stream",
     "text": [
      "(50410, 8)\n",
      "<class 'pandas.core.frame.DataFrame'>\n",
      "RangeIndex: 50410 entries, 0 to 50409\n",
      "Data columns (total 8 columns):\n",
      " #   Column      Non-Null Count  Dtype \n",
      "---  ------      --------------  ----- \n",
      " 0   id          50410 non-null  int64 \n",
      " 1   tmsp        50410 non-null  object\n",
      " 2   country     50410 non-null  object\n",
      " 3   amount      50410 non-null  int64 \n",
      " 4   success     50410 non-null  int64 \n",
      " 5   PSP         50410 non-null  object\n",
      " 6   3D_secured  50410 non-null  int64 \n",
      " 7   card        50410 non-null  object\n",
      "dtypes: int64(4), object(4)\n",
      "memory usage: 3.1+ MB\n",
      "None\n"
     ]
    }
   ],
   "source": [
    "print(transactions.shape)\n",
    "print(transactions.info())"
   ]
  },
  {
   "cell_type": "markdown",
   "id": "929315ee",
   "metadata": {},
   "source": [
    "The dataset has 50410 entries and 8 columns:\n",
    "    \n",
    "Feature | Variable Type | Data Type | Description \n",
    ":--------: | ------- | :-------: | -------  \n",
    "`id` | continuous |  int  | index\n",
    "`tmsp` | continuous |  timestamp  | timestamp of transaction\n",
    "`country` | categorical | string | country of transaction (Germany, Switzerland, Austria)\n",
    "`amount` | continuous | float | transaction amount (euro)\n",
    "`success` | categorical | boolean | 1 - payment is successful, 0 payment has failed\n",
    "`PSP` | categorical | string | name of payments service provider (Moneycard, Goldcard, UK_Card, Simplecard) \n",
    "`3D_secured` | categorical | boolean | 1 - customer is 3D identified, 0 customer is Not 3D identified\n",
    "`card` | categorical | string | credit card provider (Master, Visa, Diners)\n",
    "    "
   ]
  },
  {
   "cell_type": "markdown",
   "id": "38c4400e",
   "metadata": {},
   "source": [
    "<h2>2.3 Verify data quality</h2>\n",
    "\n",
    "Are there any missing or duplicate values variables? There are no missing or duplicate values. "
   ]
  },
  {
   "cell_type": "code",
   "execution_count": 31,
   "id": "53db983e",
   "metadata": {},
   "outputs": [
    {
     "name": "stdout",
     "output_type": "stream",
     "text": [
      "There are: 0 data duplicate.\n"
     ]
    }
   ],
   "source": [
    "print('There are:', transactions[transactions.duplicated()==True].shape[0],'data duplicate.')"
   ]
  },
  {
   "cell_type": "markdown",
   "id": "874b3248",
   "metadata": {},
   "source": [
    "<h2>2.4 Explore data</h2>"
   ]
  },
  {
   "cell_type": "markdown",
   "id": "e617913a",
   "metadata": {},
   "source": [
    "<h1>3. Data Preparation</h1>\n",
    "\n",
    "After you understand the data you have, it is time for the Data Preparation. This phase is what we did to prepare the data for the modeling phase. "
   ]
  },
  {
   "cell_type": "markdown",
   "id": "96b4f7a5",
   "metadata": {},
   "source": [
    "<h2>3.1 Data Selection</h2>"
   ]
  },
  {
   "cell_type": "markdown",
   "id": "ee98330c",
   "metadata": {},
   "source": [
    "<h2>3.2 Data Cleaning</h2>"
   ]
  },
  {
   "cell_type": "markdown",
   "id": "3fe6fed9",
   "metadata": {},
   "source": [
    "<h2>3.3 Feature Engineering</h2>"
   ]
  },
  {
   "cell_type": "markdown",
   "id": "5e248d4f",
   "metadata": {},
   "source": [
    "<h2>3.4 Data Integration</h2>"
   ]
  },
  {
   "cell_type": "markdown",
   "id": "78bf9dc7",
   "metadata": {},
   "source": [
    "<h2>3.5 Data Formatting</h2>"
   ]
  },
  {
   "cell_type": "code",
   "execution_count": null,
   "id": "d0a2e0c3",
   "metadata": {},
   "outputs": [],
   "source": []
  }
 ],
 "metadata": {
  "kernelspec": {
   "display_name": "Python 3",
   "language": "python",
   "name": "python3"
  },
  "language_info": {
   "codemirror_mode": {
    "name": "ipython",
    "version": 3
   },
   "file_extension": ".py",
   "mimetype": "text/x-python",
   "name": "python",
   "nbconvert_exporter": "python",
   "pygments_lexer": "ipython3",
   "version": "3.8.8"
  }
 },
 "nbformat": 4,
 "nbformat_minor": 5
}
